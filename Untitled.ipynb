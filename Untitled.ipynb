{
 "cells": [
  {
   "cell_type": "code",
   "execution_count": null,
   "metadata": {},
   "outputs": [],
   "source": [
    "#\n",
    "# Install all dependencies\n",
    "#\n",
    "\n",
    "!pip install pandas\n",
    "!pip install boto3\n",
    "!pip install sagemaker\n",
    "!pip install matplotlib\n",
    "!pip install mxnet\n",
    "!pip install gluonts\n",
    "!pip install --upgrade \"mxnet==1.4.1\""
   ]
  },
  {
   "cell_type": "code",
   "execution_count": null,
   "metadata": {
    "jupyter": {
     "outputs_hidden": true
    }
   },
   "outputs": [],
   "source": [
    "#\n",
    "# Run basic checks\n",
    "#\n",
    "\n",
    "import mxnet\n",
    "\n",
    "print(mxnet.__version__)\n",
    "gpu_count = mxnet.context.num_gpus()\n",
    "print(f\"The GPU count is [{gpu_count}]\")"
   ]
  },
  {
   "cell_type": "code",
   "execution_count": null,
   "metadata": {},
   "outputs": [],
   "source": [
    "#\n",
    "# Import dataset(s)\n",
    "# Dataset retrieved from:\n",
    "#   https://finance.yahoo.com/quote/%5EGSPC/history?period1=788936400&period2=1564545600&interval=1mo&filter=history&frequency=1mo\n",
    "#\n",
    "\n",
    "import boto3\n",
    "import botocore\n",
    "\n",
    "BUCKET_NAME = \"sagemaker-studio-941048668662-pqxpata7h5\"\n",
    "DATASET = \"SandP_1995_2019_monthly.csv\"\n",
    "\n",
    "s3 = boto3.resource('s3')\n",
    "\n",
    "try:\n",
    "    # Download as local file\n",
    "    s3.Bucket(BUCKET_NAME).download_file(DATASET, DATASET)\n",
    "except botocore.exceptions.ClientError as e:\n",
    "    if e.response['Error']['Code'] == \"404\":\n",
    "        print(\"The object does not exist.\")\n",
    "    else:\n",
    "        raise"
   ]
  },
  {
   "cell_type": "code",
   "execution_count": null,
   "metadata": {
    "jupyter": {
     "outputs_hidden": true
    }
   },
   "outputs": [],
   "source": [
    "#\n",
    "# Parse dataset\n",
    "#\n",
    "\n",
    "import pandas as pd\n",
    "\n",
    "df = pd.read_csv(DATASET, header=0, index_col=0)\n",
    "print(\"First sample:\")\n",
    "print(df.head(1))\n",
    "print(\"\\nLast sample:\")\n",
    "print(df.tail(1))"
   ]
  },
  {
   "cell_type": "code",
   "execution_count": null,
   "metadata": {},
   "outputs": [],
   "source": [
    "#\n",
    "# Plot available data\n",
    "#\n",
    "\n",
    "import matplotlib.pyplot as plt\n",
    "\n",
    "df['Adj Close'].plot(linewidth=2)\n",
    "plt.grid(which='both')\n",
    "plt.show()"
   ]
  },
  {
   "cell_type": "code",
   "execution_count": null,
   "metadata": {},
   "outputs": [],
   "source": [
    "#\n",
    "# Configure trainging data\n",
    "#\n",
    "\n",
    "from gluonts.dataset.common import ListDataset\n",
    "\n",
    "training_data = ListDataset(\n",
    "    [{\"start\": df.index[0], \"target\": df['Adj Close'][:\"2013-12-01\"]}],\n",
    "    freq=\"1M\"\n",
    ")"
   ]
  },
  {
   "cell_type": "code",
   "execution_count": null,
   "metadata": {},
   "outputs": [],
   "source": [
    "#\n",
    "# Train model on training data\n",
    "#\n",
    "\n",
    "#from gluonts.dataset.artificial._base import ComplexSeasonalTimeSeries\n",
    "from gluonts.model.deepar import DeepAREstimator\n",
    "from gluonts.model.simple_feedforward import SimpleFeedForwardEstimator\n",
    "from gluonts.trainer import Trainer\n",
    "\n",
    "# estimator = SimpleFeedForwardEstimator(\n",
    "#     num_hidden_dimensions=[1],\n",
    "#     prediction_length=12,\n",
    "#     context_length=100,\n",
    "#     freq=\"1M\",\n",
    "#     trainer=Trainer(\n",
    "#         epochs=10, \n",
    "#         learning_rate=1e-3, \n",
    "#         num_batches_per_epoch=1\n",
    "#     )\n",
    "# )\n",
    "\n",
    "estimator = DeepAREstimator(freq=\"1M\", prediction_length=12, trainer=Trainer(epochs=10))\n",
    "predictor = estimator.train(training_data=training_data)"
   ]
  },
  {
   "cell_type": "code",
   "execution_count": null,
   "metadata": {},
   "outputs": [],
   "source": [
    "from gluonts.dataset.util import to_pandas\n",
    "\n",
    "# Configure test data\n",
    "test_data = ListDataset(\n",
    "    [{\"start\": df.index[0], \"target\": df['Adj Close'][:\"2015-04-15 00:00:00\"]}],\n",
    "    freq=\"1M\"\n",
    ")"
   ]
  },
  {
   "cell_type": "code",
   "execution_count": null,
   "metadata": {},
   "outputs": [],
   "source": [
    "from gluonts.evaluation.backtest import make_evaluation_predictions\n",
    "\n",
    "forecast_it, ts_it = make_evaluation_predictions(\n",
    "    dataset=test_data,  # test dataset\n",
    "    predictor=predictor,  # predictor\n",
    "    num_samples=100,  # number of sample paths we want for evaluation\n",
    ")"
   ]
  },
  {
   "cell_type": "code",
   "execution_count": null,
   "metadata": {},
   "outputs": [],
   "source": [
    "forecasts = list(forecast_it)\n",
    "tss = list(ts_it)\n",
    "\n",
    "forecast_entry = forecasts[0]\n",
    "ts_entry = tss[0]\n",
    "\n",
    "print(f\"Number of sample paths: {forecast_entry.num_samples}\")\n",
    "print(f\"Dimension of samples: {forecast_entry.samples.shape}\")\n",
    "print(f\"Start date of the forecast window: {forecast_entry.start_date}\")\n",
    "print(f\"Frequency of the time series: {forecast_entry.freq}\")\n",
    "\n",
    "print(f\"Mean of the future window:\\n {forecast_entry.mean}\")\n",
    "print(f\"0.5-quantile (median) of the future window:\\n {forecast_entry.quantile(0.5)}\")"
   ]
  },
  {
   "cell_type": "code",
   "execution_count": null,
   "metadata": {},
   "outputs": [],
   "source": [
    "def plot_prob_forecasts(ts_entry, forecast_entry):\n",
    "    plot_length = 150\n",
    "    prediction_intervals = (50.0, 90.0)\n",
    "    legend = [\"observations\", \"median prediction\"] + [f\"{k}% prediction interval\" for k in prediction_intervals][::-1]\n",
    "\n",
    "    fig, ax = plt.subplots(1, 1, figsize=(10, 7))\n",
    "    ts_entry[-plot_length:].plot(ax=ax)  # plot the time series\n",
    "    forecast_entry.plot(prediction_intervals=prediction_intervals, color='g')\n",
    "    plt.grid(which=\"both\")\n",
    "    plt.legend(legend, loc=\"upper left\")\n",
    "    plt.show()\n",
    "\n",
    "plot_prob_forecasts(ts_entry, forecast_entry)"
   ]
  },
  {
   "cell_type": "code",
   "execution_count": null,
   "metadata": {
    "jupyter": {
     "outputs_hidden": true
    }
   },
   "outputs": [],
   "source": [
    "#Evaluate Model\n",
    "import json\n",
    "from gluonts.evaluation import Evaluator\n",
    "\n",
    "evaluator = Evaluator(quantiles=[0.1, 0.5, 0.9])\n",
    "agg_metrics, item_metrics = evaluator(iter(tss), iter(forecasts), num_series=len(test_data))\n",
    "\n",
    "print(json.dumps(agg_metrics, indent=4))"
   ]
  },
  {
   "cell_type": "code",
   "execution_count": null,
   "metadata": {},
   "outputs": [],
   "source": [
    "# Save the model\n",
    "\n",
    "import os\n",
    "os.makedirs('gia', exist_ok=True)\n",
    "deepar_predictor.serialize_prediction_net(pathlib.Path('gia'))\n",
    "deepar_predictor.serialize(pathlib.Path('gia'))"
   ]
  }
 ],
 "metadata": {
  "kernelspec": {
   "display_name": "conda_mxnet_p36",
   "language": "python",
   "name": "conda_mxnet_p36"
  },
  "language_info": {
   "codemirror_mode": {
    "name": "ipython",
    "version": 3
   },
   "file_extension": ".py",
   "mimetype": "text/x-python",
   "name": "python",
   "nbconvert_exporter": "python",
   "pygments_lexer": "ipython3",
   "version": "3.6.5"
  }
 },
 "nbformat": 4,
 "nbformat_minor": 4
}
