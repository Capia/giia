{
 "cells": [
  {
   "cell_type": "code",
   "execution_count": null,
   "metadata": {},
   "outputs": [],
   "source": [
    "#\n",
    "# Install all dependencies\n",
    "#\n",
    "import mxnet\n",
    "import numpy as np\n",
    "import pandas as pd\n",
    "import boto3\n",
    "import s3fs\n",
    "import sagemaker\n",
    "from sagemaker.mxnet import MXNet\n",
    "\n",
    "MODEL_NAME = \"gia\"\n",
    "# DATASET = \"datasets/SandP_1995_2019_monthly.csv\"\n",
    "DATASET = \"datasets/SandP_1995_2020_daily.csv\""
   ]
  },
  {
   "cell_type": "code",
   "execution_count": null,
   "metadata": {},
   "outputs": [],
   "source": [
    "#\n",
    "# Run basic checks\n",
    "#\n",
    "\n",
    "print(mxnet.__version__)\n",
    "gpu_count = mxnet.context.num_gpus()\n",
    "print(f\"The GPU count is [{gpu_count}]\")"
   ]
  },
  {
   "cell_type": "code",
   "execution_count": null,
   "metadata": {},
   "outputs": [],
   "source": [
    "#\n",
    "# Parse dataset\n",
    "#\n",
    "\n",
    "df = pd.read_csv(DATASET, header=0, index_col=0)\n",
    "print(\"First sample:\")\n",
    "print(df.head(1))\n",
    "print(\"\\nLast sample:\")\n",
    "print(df.tail(1))\n",
    "\n",
    "# Configure fractions to split dataset between training, testing, and validation\n",
    "fractions = np.array([0.7, 0.3])\n",
    "\n",
    "# Split dataset between training, testing, and validation\n",
    "train, test = np.array_split(\n",
    "    df, (fractions[:-1].cumsum() * len(df)).astype(int))\n",
    "\n",
    "# train = df[: \"2013-12-01\"]\n",
    "train.to_csv(\"datasets/train.csv\")\n",
    "\n",
    "# test = df[: \"2015-04-15\"]\n",
    "test.to_csv(\"datasets/test.csv\")"
   ]
  },
  {
   "cell_type": "code",
   "execution_count": null,
   "metadata": {},
   "outputs": [],
   "source": [
    "#\n",
    "# Upload dataset(s)\n",
    "# Dataset retrieved from:\n",
    "#   https://finance.yahoo.com/quote/%5EGSPC/history?period1=788936400&period2=1564545600&interval=1mo&filter=history&frequency=1mo\n",
    "#\n",
    "\n",
    "sagemaker_session = sagemaker.Session()\n",
    "s3_bucket = sagemaker_session.default_bucket()\n",
    "\n",
    "s3_train_data_path = \"s3://{}/{}/train\".format(s3_bucket, MODEL_NAME)\n",
    "s3_test_data_path = \"s3://{}/{}/test\".format(s3_bucket, MODEL_NAME)\n",
    "\n",
    "print(\"Data will be uploaded to: \", s3_bucket)"
   ]
  },
  {
   "cell_type": "code",
   "execution_count": null,
   "metadata": {},
   "outputs": [],
   "source": [
    "#\n",
    "# Upload dataset to S3\n",
    "#\n",
    "\n",
    "s3 = boto3.resource('s3')\n",
    "def copy_to_s3(local_file, s3_path, override=True):\n",
    "    assert s3_path.startswith('s3://')\n",
    "    split = s3_path.split('/')\n",
    "    bucket = split[2]\n",
    "    path = '/'.join(split[3:])\n",
    "    buk = s3.Bucket(bucket)\n",
    "\n",
    "    if len(list(buk.objects.filter(Prefix=path))) > 0:\n",
    "        if not override:\n",
    "            print('File s3://{}/{} already exists.\\nSet override to upload anyway.\\n'.format(s3_bucket, s3_path))\n",
    "            return\n",
    "        else:\n",
    "            print('Overwriting existing file')\n",
    "    with open(local_file, 'rb') as data:\n",
    "        print('Uploading file to {}'.format(s3_path))\n",
    "        buk.put_object(Key=path, Body=data)\n",
    "\n",
    "copy_to_s3(\"datasets/train.csv\", s3_train_data_path + \"/train.csv\")\n",
    "copy_to_s3(\"datasets/test.csv\", s3_test_data_path + \"/test.csv\")\n",
    "\n",
    "# Check if the data was uploaded correctly\n",
    "s3filesystem = s3fs.S3FileSystem()\n",
    "with s3filesystem.open(s3_train_data_path + \"/train.csv\", 'rb') as fp:\n",
    "    print(fp.readline().decode(\"utf-8\")[:100] + \"...\")"
   ]
  },
  {
   "cell_type": "code",
   "execution_count": null,
   "metadata": {
    "pycharm": {
     "name": "#%%\n"
    }
   },
   "outputs": [],
   "source": [
    "#\n",
    "# Configure sagemaker and estimator\n",
    "#\n",
    "\n",
    "role ='arn:aws:iam::941048668662:role/service-role/AmazonSageMaker-ExecutionRole-20191206T145896'\n",
    "\n",
    "local_instance='local'\n",
    "aws_instance='ml.m5.large'\n",
    "\n",
    "estimator = MXNet(\n",
    "    entry_point='train.py',\n",
    "    # source_dir='entry_point',\n",
    "    role=role,\n",
    "    train_instance_type=local_instance,\n",
    "    train_instance_count=1,\n",
    "    framework_version='1.6.0', py_version='py3',\n",
    "    hyperparameters={\n",
    "         'epochs': 15,\n",
    "         'prediction_length': 19,\n",
    "         'num_layers': 5,\n",
    "         'dropout_rate': 0.18,\n",
    "     })\n",
    "\n",
    "estimator.fit({\"train\": s3_train_data_path, \"test\": s3_test_data_path})"
   ]
  },
  {
   "cell_type": "code",
   "execution_count": null,
   "metadata": {
    "pycharm": {
     "name": "#%%\n"
    }
   },
   "outputs": [],
   "source": [
    "#\n",
    "# NOTE: THIS DOES NOT WORK LOCALLY AND IT IS NOT SUPPOSED TO.\n",
    "# Hyperparameter tune the model\n",
    "#\n",
    "\n",
    "from sagemaker.tuner import HyperparameterTuner, ContinuousParameter, IntegerParameter\n",
    "\n",
    "tuner = HyperparameterTuner(\n",
    "    estimator=estimator,\n",
    "    objective_metric_name='loss',\n",
    "    hyperparameter_ranges={\n",
    "        'epochs': IntegerParameter(5,20),\n",
    "        'prediction_length':IntegerParameter(5,20),\n",
    "        'num_layers': IntegerParameter(1, 5),\n",
    "        'dropout_rate': ContinuousParameter(0, 0.5) },\n",
    "    metric_definitions=[{'Name': 'loss', 'Regex': \"MSE: ([0-9\\\\.]+)\"}],\n",
    "    max_jobs=10,\n",
    "    max_parallel_jobs=5,\n",
    "    objective_type='Minimize')\n",
    "\n",
    "tuner.fit({'train': s3_train_data_path, \"test\": s3_test_data_path})\n",
    "tuning_job_name = tuner.latest_tuning_job.job_name\n",
    "print(\"Tuning job name: \" + tuning_job_name)"
   ]
  },
  {
   "cell_type": "code",
   "execution_count": null,
   "metadata": {
    "pycharm": {
     "name": "#%%\n"
    }
   },
   "outputs": [],
   "source": [
    "sage_client = boto3.Session().client('sagemaker')\n",
    "\n",
    "# Run this cell to check current status of hyperparameter tuning job\n",
    "tuning_job_result = sage_client.describe_hyper_parameter_tuning_job(HyperParameterTuningJobName=tuning_job_name)\n",
    "\n",
    "status = tuning_job_result['HyperParameterTuningJobStatus']\n",
    "if status != 'Completed':\n",
    "    print('Reminder: the tuning job has not been completed.')\n",
    "\n",
    "job_count = tuning_job_result['TrainingJobStatusCounters']['Completed']\n",
    "print(\"%d training jobs have completed\" % job_count)\n",
    "\n",
    "is_minimize = (tuning_job_result['HyperParameterTuningJobConfig']['HyperParameterTuningJobObjective']['Type'] != 'Maximize')\n",
    "objective_name = tuning_job_result['HyperParameterTuningJobConfig']['HyperParameterTuningJobObjective']['MetricName']\n"
   ]
  },
  {
   "cell_type": "code",
   "execution_count": null,
   "metadata": {
    "pycharm": {
     "name": "#%%\n"
    }
   },
   "outputs": [],
   "source": [
    "import pandas as pd\n",
    "\n",
    "job_analytics = sagemaker.HyperparameterTuningJobAnalytics(tuning_job_name)\n",
    "\n",
    "full_df = job_analytics.dataframe()\n",
    "\n",
    "if len(full_df) > 0:\n",
    "    df = full_df[full_df['FinalObjectiveValue'] > -float('inf')]\n",
    "    if len(df) > 0:\n",
    "        df = df.sort_values('FinalObjectiveValue', ascending=is_minimize)\n",
    "        print(\"Number of training jobs with valid objective: %d\" % len(df))\n",
    "        print({\"lowest\":min(df['FinalObjectiveValue']),\"highest\": max(df['FinalObjectiveValue'])})\n",
    "        pd.set_option('display.max_colwidth', -1)  # Don't truncate TrainingJobName\n",
    "    else:\n",
    "        print(\"No training jobs have reported valid results yet.\")\n",
    "\n",
    "df\n"
   ]
  }
 ],
 "metadata": {
  "kernelspec": {
   "display_name": "Python 3",
   "language": "python",
   "name": "python3"
  },
  "language_info": {
   "codemirror_mode": {
    "name": "ipython",
    "version": 3
   },
   "file_extension": ".py",
   "mimetype": "text/x-python",
   "name": "python",
   "nbconvert_exporter": "python",
   "pygments_lexer": "ipython3",
   "version": "3.7.5"
  }
 },
 "nbformat": 4,
 "nbformat_minor": 4
}
