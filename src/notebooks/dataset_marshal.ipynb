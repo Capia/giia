{
 "cells": [
  {
   "cell_type": "code",
   "execution_count": 1,
   "metadata": {
    "pycharm": {
     "name": "#%%\n"
    }
   },
   "outputs": [],
   "source": [
    "#\n",
    "# Setup constants\n",
    "#\n",
    "\n",
    "import subprocess\n",
    "\n",
    "MODEL_NAME = \"giia\"\n",
    "MODEL_VERSION = \"0.3.3\"\n",
    "DATASETS = [\n",
    "    \"datasets/SandP_1995_2020_daily.csv\",\n",
    "    \"datasets/AWK_2008IPO_2020_daily.csv\"\n",
    "]\n",
    "SM_ROLE ='arn:aws:iam::941048668662:role/service-role/AmazonSageMaker-ExecutionRole-20191206T145896'\n",
    "\n",
    "MODULE_PATH = \"\""
   ]
  },
  {
   "cell_type": "code",
   "execution_count": 2,
   "metadata": {
    "pycharm": {
     "name": "#%%\n"
    }
   },
   "outputs": [
    {
     "name": "stdout",
     "output_type": "stream",
     "text": [
      "%cache magic is now registered in ipython\n",
      "loading cached value for variable 'MODULE_PATH'. Time since pickling  9 days, 0:25:04.606537\n",
      "2020-07-03 15:16:52.929588 Background logger started\n",
      "2020-07-03 15:16:52.930171 Current working directory [/Users/jbeckman/giia/src]\n",
      "2020-07-03 15:16:52.930341 1.6.0\n",
      "2020-07-03 15:16:52.930599 The GPU count is [0]\n"
     ]
    }
   ],
   "source": [
    "#\n",
    "# Initialization\n",
    "#\n",
    "\n",
    "import os\n",
    "import sys\n",
    "import cache_magic\n",
    "from pathlib import Path\n",
    "\n",
    "# Set notebook's src module path. Note that you may have to update your IDE's project settings to do the same for the\n",
    "#  local library imports to work the same\n",
    "%cache MODULE_PATH = os.path.dirname(Path().resolve())\n",
    "sys.path.append(MODULE_PATH)\n",
    "\n",
    "# Keep paths consistent throughout notebook\n",
    "os.chdir(MODULE_PATH)\n",
    "\n",
    "# Autoreload imports at the beginning of cell execution.\n",
    "#  https://ipython.org/ipython-doc/3/config/extensions/autoreload.html\n",
    "%load_ext autoreload\n",
    "%autoreload 2\n",
    "\n",
    "from utils.logging import LoggerUtil\n",
    "from utils.utils import Utils\n",
    "\n",
    "LOGGER = LoggerUtil(f\"{MODEL_NAME}-{MODEL_VERSION}\")\n",
    "UTILS = Utils(LOGGER)\n",
    "\n",
    "LOGGER.log(\"Current working directory [{}]\".format(os.getcwd()))\n",
    "UTILS.describe_env()"
   ]
  },
  {
   "cell_type": "code",
   "execution_count": null,
   "outputs": [],
   "source": [
    "from gluonts.dataset.multivariate_grouper import MultivariateGrouper\n",
    "from gluonts.dataset.common import ListDataset, TrainDatasets\n",
    "from gluonts.evaluation.backtest import backtest_metrics\n",
    "\n",
    "\n",
    "def load_multivariate(dataset):\n",
    "    target_dim = dataset.metadata.feat_static_cat[0].cardinality\n",
    "    grouper_train = MultivariateGrouper(max_target_dim=target_dim)\n",
    "    grouper_test = MultivariateGrouper(max_target_dim=target_dim)\n",
    "    return TrainDatasets(\n",
    "        metadata=dataset.metadata,\n",
    "        train=grouper_train(dataset.train),\n",
    "        test=grouper_test(dataset.test),\n",
    "    )\n",
    "\n",
    "dataset = load_multivariate(data)\n"
   ],
   "metadata": {
    "collapsed": false,
    "pycharm": {
     "name": "#%%\n"
    }
   }
  },
  {
   "cell_type": "code",
   "execution_count": 20,
   "metadata": {
    "pycharm": {
     "name": "#%%\n"
    }
   },
   "outputs": [
    {
     "name": "stdout",
     "output_type": "stream",
     "text": [
      "-----------------------\n",
      "                  Open        High         Low       Close   Adj Close  \\\n",
      "Date                                                                     \n",
      "2008-04-23   20.600000   21.450001   20.219999   20.600000   14.833152   \n",
      "2008-04-24   20.719999   21.000000   20.309999   20.809999   14.984364   \n",
      "2008-04-25   21.000000   21.250000   20.700001   21.170000   15.243580   \n",
      "2008-04-28   21.490000   21.490000   20.809999   21.000000   15.121177   \n",
      "2008-04-29   21.389999   21.389999   20.820000   21.070000   15.171576   \n",
      "...                ...         ...         ...         ...         ...   \n",
      "2020-06-19  131.059998  131.130005  126.360001  126.360001  126.360001   \n",
      "2020-06-22  126.330002  127.599998  125.699997  126.830002  126.830002   \n",
      "2020-06-23  127.709999  128.179993  124.879997  125.220001  125.220001   \n",
      "2020-06-24  124.339996  125.199997  123.099998  124.400002  124.400002   \n",
      "2020-06-25  124.400002  124.400002  120.669998  122.220001  122.220001   \n",
      "\n",
      "              Volume       Open       High        Low      Close  Adj Close  \\\n",
      "Date                                                                          \n",
      "2008-04-23  23402800  10.300000  10.725001  10.109999  10.300000   7.416576   \n",
      "2008-04-24   4960900  10.359999  10.500000  10.154999  10.404999   7.492182   \n",
      "2008-04-25   1956800  10.500000  10.625000  10.350001  10.585000   7.621790   \n",
      "2008-04-28    709400  10.745000  10.745000  10.404999  10.500000   7.560588   \n",
      "2008-04-29    859700  10.694999  10.694999  10.410000  10.535000   7.585788   \n",
      "...              ...        ...        ...        ...        ...        ...   \n",
      "2020-06-19   1766000  65.529999  65.565003  63.180000  63.180000  63.180000   \n",
      "2020-06-22   1127400  63.165001  63.799999  62.849998  63.415001  63.415001   \n",
      "2020-06-23    833000  63.854999  64.089996  62.439999  62.610000  62.610000   \n",
      "2020-06-24   1038000  62.169998  62.599998  61.549999  62.200001  62.200001   \n",
      "2020-06-25    707800  62.200001  62.200001  60.334999  61.110000  61.110000   \n",
      "\n",
      "                Volume  \n",
      "Date                    \n",
      "2008-04-23  11701400.0  \n",
      "2008-04-24   2480450.0  \n",
      "2008-04-25    978400.0  \n",
      "2008-04-28    354700.0  \n",
      "2008-04-29    429850.0  \n",
      "...                ...  \n",
      "2020-06-19    883000.0  \n",
      "2020-06-22    563700.0  \n",
      "2020-06-23    416500.0  \n",
      "2020-06-24    519000.0  \n",
      "2020-06-25    353900.0  \n",
      "\n",
      "[3066 rows x 12 columns]\n"
     ]
    }
   ],
   "source": [
    "import pandas as pd\n",
    "\n",
    "df_1 = pd.read_csv(\"datasets/AWK_2008IPO_2020_daily.csv\", header=0, index_col=0)\n",
    "# print(df_1)\n",
    "\n",
    "df_2 = pd.read_csv(\"datasets/AWK_2008IPO_2020_daily.csv\", header=0, index_col=0)\n",
    "df_2 /= 2\n",
    "# print(df_2)\n",
    "# print(df_2[\"Open\"].to_numpy())\n",
    "\n",
    "print(\"-----------------------\")\n",
    "# for (columnName, columnData) in df_2.iteritems():\n",
    "#     print(columnName)\n",
    "#     print(columnData.to_numpy())\n",
    "    \n",
    "dataframes = []\n",
    "dataframes.append(df_1.set_index([\"Open\"]))\n",
    "dataframes.append(df_2.set_index([\"Open\"]))\n",
    "\n",
    "combined_df = pd.concat([df_1, df_2], axis=1, join=\"inner\")\n",
    "print(combined_df)\n",
    "\n",
    "\n",
    "df = pd.concat([df_1, df_2], axis = 1)\n",
    "# print(df.head(1))\n",
    "\n",
    "# import xarray\n",
    "#\n",
    "# output_as_dataarray = xarray.concat(\n",
    "#     [xarray.DataArray(X,\n",
    "#                       dims=['record', 'edge'],\n",
    "#                       coords={'record': range(X.shape[0]),\n",
    "#                               'edge': ['start', 'end']},\n",
    "#                      ) for X in (A, B, C)],\n",
    "#     dim='descriptor',\n",
    "# ).assign_coords(descriptor=['A', 'B', 'C'])"
   ]
  },
  {
   "cell_type": "code",
   "execution_count": null,
   "metadata": {},
   "outputs": [],
   "source": [
    "import numpy as np\n",
    "\n",
    "def encode_missing_values(dataset: list):\n",
    "    max_len = max(len(sublist) for sublist in dataset)\n",
    "    for sublist in dataset:\n",
    "        sublist.extend([np.nan] * (max_len - len(sublist)))\n"
   ]
  }
 ],
 "metadata": {
  "kernelspec": {
   "display_name": "Python 3",
   "language": "python",
   "name": "python3"
  },
  "language_info": {
   "codemirror_mode": {
    "name": "ipython",
    "version": 3
   },
   "file_extension": ".py",
   "mimetype": "text/x-python",
   "name": "python",
   "nbconvert_exporter": "python",
   "pygments_lexer": "ipython3",
   "version": "3.7.5"
  }
 },
 "nbformat": 4,
 "nbformat_minor": 4
}