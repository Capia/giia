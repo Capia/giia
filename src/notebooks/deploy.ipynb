{
 "cells": [
  {
   "cell_type": "code",
   "execution_count": null,
   "metadata": {
    "collapsed": true
   },
   "outputs": [],
   "source": [
    "#\n",
    "# Find all models, sort them (by date), and deploy the latest one\n",
    "#\n",
    "\n",
    "models = [Path(model).name for model in s3filesystem.ls(s3_output_path)\n",
    "        if (Path(model).name.startswith(\"giia\"))]\n",
    "sorted_models = sorted(models)\n",
    "\n",
    "endpoint_name = sagemaker_session.endpoint_from_job(\n",
    "    job_name=sorted_models[0],\n",
    "    initial_instance_count=1,\n",
    "    instance_type='ml.t2.medium',\n",
    "    deployment_image=image_name,\n",
    "    role=role\n",
    ")\n",
    "\n",
    "predictor = chainer_estimator.deploy(initial_instance_count=1, instance_type=instance_type)\n",
    "# https://github.com/awslabs/amazon-sagemaker-examples/blob/master/sagemaker-python-sdk/chainer_mnist/chainer_mnist_local_mode.ipynb\n"
   ]
  }
 ],
 "metadata": {
  "kernelspec": {
   "display_name": "Python 3",
   "language": "python",
   "name": "python3"
  },
  "language_info": {
   "codemirror_mode": {
    "name": "ipython",
    "version": 2
   },
   "file_extension": ".py",
   "mimetype": "text/x-python",
   "name": "python",
   "nbconvert_exporter": "python",
   "pygments_lexer": "ipython2",
   "version": "2.7.6"
  }
 },
 "nbformat": 4,
 "nbformat_minor": 0
}