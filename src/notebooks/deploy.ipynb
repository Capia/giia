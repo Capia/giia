{
 "cells": [
  {
   "cell_type": "code",
   "execution_count": null,
   "metadata": {
    "collapsed": true
   },
   "outputs": [],
   "source": [
    "#\n",
    "# Initialization\n",
    "#\n",
    "import os\n",
    "import sys\n",
    "\n",
    "import ipynbname\n",
    "from pathlib import Path\n",
    "\n",
    "# Set notebook's src module path. Note that you may have to update your IDE's project settings to do the same for the\n",
    "#  local library imports to work the same\n",
    "\n",
    "MODULE_PATH = ipynbname.path().parent.parent\n",
    "sys.path.append(str(MODULE_PATH))\n",
    "\n",
    "# Keep paths consistent throughout notebook\n",
    "os.chdir(MODULE_PATH)\n",
    "\n",
    "# This should always be `./src`\n",
    "print(f\"Current working directory [{os.getcwd()}]\")\n",
    "\n",
    "# Place all local artifacts in a disposable, git-ignored directory\n",
    "local_artifact_dir = Path(os.getcwd()).parent / \"out\"\n",
    "local_artifact_dir.mkdir(parents=True, exist_ok=True)\n",
    "\n",
    "# Autoreload imports at the beginning of cell execution.\n",
    "#  https://ipython.org/ipython-doc/3/config/extensions/autoreload.html\n",
    "%load_ext autoreload\n",
    "%autoreload 2"
   ]
  },
  {
   "cell_type": "code",
   "execution_count": null,
   "outputs": [],
   "source": [
    "#\n",
    "# Setup utils\n",
    "#\n",
    "\n",
    "from utils.logger_util import LoggerUtil\n",
    "from utils.utils import Utils\n",
    "from utils import config\n",
    "\n",
    "LOGGER = LoggerUtil(config.MODEL_ID, local_artifact_dir / \"logs\")\n",
    "UTILS = Utils(LOGGER)\n",
    "\n",
    "UTILS.describe_env()\n",
    "\n",
    "LOCAL_INSTANCE = 'local'"
   ],
   "metadata": {
    "collapsed": false,
    "pycharm": {
     "name": "#%%\n"
    }
   }
  },
  {
   "cell_type": "code",
   "execution_count": null,
   "outputs": [],
   "source": [
    "from data_processing.aws_handler import AWSHandler\n",
    "from sagemaker import LocalSession\n",
    "\n",
    "AWS_HANDLER = AWSHandler(LOGGER, config.MODEL_ID)\n",
    "\n",
    "sagemaker_session = LocalSession()\n",
    "sagemaker_session.config = {\n",
    "    'local': {\n",
    "        'local_code': True\n",
    "    }\n",
    "}"
   ],
   "metadata": {
    "collapsed": false,
    "pycharm": {
     "name": "#%%\n"
    }
   }
  },
  {
   "cell_type": "code",
   "execution_count": null,
   "outputs": [],
   "source": [
    "#\n",
    "# Upload serialized model\n",
    "#\n",
    "\n",
    "from sagemaker.mxnet import MXNetModel\n",
    "\n",
    "# Place the model (`model.tar.gz` contents) that you would like to run locally inside this directory.\n",
    "# This will recompress them in the appropriate format\n",
    "model_dir_path = local_artifact_dir / \"local_deploy_model\" / \"model\"\n",
    "model_dir_path.mkdir(parents=True, exist_ok=True)\n",
    "LOGGER.log(f\"Model dir is [{model_dir_path}]\")\n",
    "\n",
    "# This is stupid, but we have to upload the model to S3 for Sagemaker, even though Sagemaker will download it locally\n",
    "# anyways to run it. Their Model class does not support local paths\n",
    "s3_model_path = AWS_HANDLER.upload_model_to_s3(model_dir_path)"
   ],
   "metadata": {
    "collapsed": false,
    "pycharm": {
     "name": "#%%\n"
    }
   }
  },
  {
   "cell_type": "code",
   "execution_count": null,
   "outputs": [],
   "source": [
    "#\n",
    "# Deploy model\n",
    "#\n",
    "\n",
    "import logging\n",
    "\n",
    "LOGGER.log(f\"Removing preexisting models and endpoints\")\n",
    "try:\n",
    "    sagemaker_session.sagemaker_client.delete_model(config.MODEL_NAME)\n",
    "    sagemaker_session.sagemaker_client.delete_endpoint(config.MODEL_NAME)\n",
    "    sagemaker_session.sagemaker_client.delete_endpoint_config(config.MODEL_NAME)\n",
    "except:\n",
    "    pass\n",
    "\n",
    "LOGGER.log(f\"Creating model\")\n",
    "model = MXNetModel(\n",
    "    model_data=s3_model_path,\n",
    "    name=config.MODEL_NAME,\n",
    "    entry_point='deepar_dynamic_real.py',\n",
    "    source_dir=os.getcwd(),\n",
    "    role=config.SM_ROLE,\n",
    "    framework_version='1.7.0',  # Should be the same mxnet X.X.X version found in requirements.txt\n",
    "    py_version='py3',\n",
    "    sagemaker_session=sagemaker_session,\n",
    "    container_log_level=logging.DEBUG\n",
    ")\n",
    "\n",
    "LOGGER.log(f\"Deploying model\")\n",
    "predictor = model.deploy(\n",
    "    instance_type = LOCAL_INSTANCE,\n",
    "    endpoint_name = config.MODEL_NAME,\n",
    "    initial_instance_count = 1)\n",
    "LOGGER.log(sagemaker_session.sagemaker_client.describe_model(config.MODEL_NAME))\n",
    "LOGGER.log(sagemaker_session.sagemaker_client.describe_endpoint_config(config.MODEL_NAME))\n",
    "LOGGER.log(f\"Predictor metadata [{predictor.__dict__}]\")\n",
    "LOGGER.log(f\"http://localhost:{sagemaker_session.sagemaker_runtime_client.serving_port}/invocations\")\n"
   ],
   "metadata": {
    "collapsed": false,
    "pycharm": {
     "name": "#%%\n"
    }
   }
  }
 ],
 "metadata": {
  "kernelspec": {
   "display_name": "Python 3",
   "language": "python",
   "name": "python3"
  },
  "language_info": {
   "codemirror_mode": {
    "name": "ipython",
    "version": 2
   },
   "file_extension": ".py",
   "mimetype": "text/x-python",
   "name": "python",
   "nbconvert_exporter": "python",
   "pygments_lexer": "ipython2",
   "version": "2.7.6"
  }
 },
 "nbformat": 4,
 "nbformat_minor": 0
}