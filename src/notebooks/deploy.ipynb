{
 "cells": [
  {
   "cell_type": "code",
   "execution_count": 1,
   "metadata": {
    "collapsed": true
   },
   "outputs": [
    {
     "name": "stdout",
     "output_type": "stream",
     "text": [
      "Current working directory [/Users/jbeckman/projects/capia/src]\n"
     ]
    }
   ],
   "source": [
    "#\n",
    "# Initialization\n",
    "#\n",
    "import os\n",
    "import sys\n",
    "\n",
    "import ipynbname\n",
    "from pathlib import Path\n",
    "\n",
    "# Set notebook's src module path. Note that you may have to update your IDE's project settings to do the same for the\n",
    "#  local library imports to work the same\n",
    "\n",
    "MODULE_PATH = ipynbname.path().parent.parent\n",
    "sys.path.append(str(MODULE_PATH))\n",
    "\n",
    "# Keep paths consistent throughout notebook\n",
    "os.chdir(MODULE_PATH)\n",
    "\n",
    "# This should always be `./src`\n",
    "print(f\"Current working directory [{os.getcwd()}]\")\n",
    "\n",
    "# Place all local artifacts in a disposable, git-ignored directory\n",
    "local_artifact_dir = Path(os.getcwd()).parent / \"out\"\n",
    "local_artifact_dir.mkdir(parents=True, exist_ok=True)\n",
    "\n",
    "# Autoreload imports at the beginning of cell execution.\n",
    "#  https://ipython.org/ipython-doc/3/config/extensions/autoreload.html\n",
    "%load_ext autoreload\n",
    "%autoreload 2"
   ]
  },
  {
   "cell_type": "code",
   "execution_count": 2,
   "outputs": [
    {
     "name": "stderr",
     "output_type": "stream",
     "text": [
      "/Users/jbeckman/projects/capia/venv/lib/python3.8/site-packages/setuptools/distutils_patch.py:25: UserWarning: Distutils was imported before Setuptools. This usage is discouraged and may exhibit undesirable behaviors or errors. Please use Setuptools' objects directly or at least import Setuptools first.\n",
      "  warnings.warn(\n"
     ]
    },
    {
     "name": "stdout",
     "output_type": "stream",
     "text": [
      "2021-12-02 15:42:06.843416 Background logger started\n",
      "2021-12-02 15:42:06.843915 The model id is [giia-1.0.3]\n",
      "2021-12-02 15:42:06.844014 The MXNet version is [1.8.0]\n",
      "2021-12-02 15:42:06.844090 The GluonTS version is [0.8.1]\n",
      "2021-12-02 15:42:06.844161 The SageMaker version is [2.70.0]\n",
      "2021-12-02 15:42:06.844271 The GPU count is [0]\n"
     ]
    }
   ],
   "source": [
    "#\n",
    "# Setup utils\n",
    "#\n",
    "\n",
    "from utils.logger_util import LoggerUtil\n",
    "from utils.utils import Utils\n",
    "from utils import config\n",
    "\n",
    "LOGGER = LoggerUtil(config.MODEL_ID, local_artifact_dir / \"logs\")\n",
    "UTILS = Utils(LOGGER)\n",
    "\n",
    "UTILS.describe_env()\n",
    "\n",
    "AWS_INSTANCE = 'ml.m5.large' # 2 vCPU, 0 GPU, 8 GB memory, $0.134/hour\n",
    "LOCAL_INSTANCE = 'local'\n",
    "\n",
    "INSTANCE_TYPE = LOCAL_INSTANCE\n",
    "IS_LOCAL = LOCAL_INSTANCE == INSTANCE_TYPE"
   ],
   "metadata": {
    "collapsed": false,
    "pycharm": {
     "name": "#%%\n"
    }
   }
  },
  {
   "cell_type": "code",
   "execution_count": 3,
   "outputs": [
    {
     "name": "stdout",
     "output_type": "stream",
     "text": [
      "2021-12-02 15:42:10.111981 Notebook is set to local mode, not uploading to S3\n"
     ]
    }
   ],
   "source": [
    "from data_processing.aws_handler import AWSHandler\n",
    "from sagemaker import LocalSession\n",
    "\n",
    "AWS_HANDLER = AWSHandler(LOGGER, config.MODEL_ID)\n",
    "\n",
    "\n",
    "if IS_LOCAL:\n",
    "    LOGGER.log(\"Notebook is set to local mode, not uploading to S3\")\n",
    "\n",
    "    sagemaker_session = LocalSession()\n",
    "    sagemaker_session.config = {\n",
    "        'local': {\n",
    "            'local_code': True\n",
    "        }\n",
    "    }\n",
    "else:\n",
    "    sagemaker_session = AWS_HANDLER.sagemaker_session"
   ],
   "metadata": {
    "collapsed": false,
    "pycharm": {
     "name": "#%%\n"
    }
   }
  },
  {
   "cell_type": "code",
   "execution_count": 4,
   "outputs": [
    {
     "name": "stdout",
     "output_type": "stream",
     "text": [
      "2021-12-02 15:42:13.419307 Model dir is [/Users/jbeckman/projects/capia/out/local_deploy_model/model]\n",
      "2021-12-02 15:42:13.419666 Compressing [/Users/jbeckman/projects/capia/out/local_deploy_model/model] to [/Users/jbeckman/projects/capia/out/local_deploy_model/model.tar.gz]\n",
      "2021-12-02 15:42:13.940077 Compress complete\n",
      "2021-12-02 15:42:13.941275 Uploading [/Users/jbeckman/projects/capia/out/local_deploy_model/model.tar.gz] to [s3://sagemaker-us-east-1-941048668662/local_deploy_model/model.tar.gz]\n",
      "2021-12-02 15:42:14.704320 Upload complete\n"
     ]
    }
   ],
   "source": [
    "#\n",
    "# Upload serialized model\n",
    "#\n",
    "\n",
    "from sagemaker.mxnet import MXNetModel\n",
    "\n",
    "# Place the model (`model.tar.gz` contents) that you would like to run locally inside this directory.\n",
    "# This will recompress them in the appropriate format\n",
    "model_dir_path = local_artifact_dir / \"local_deploy_model\" / \"model\"\n",
    "model_dir_path.mkdir(parents=True, exist_ok=True)\n",
    "LOGGER.log(f\"Model dir is [{model_dir_path}]\")\n",
    "\n",
    "# This is stupid, but we have to upload the model to S3 for Sagemaker, even though Sagemaker will download it locally\n",
    "# anyways to run it. Their Model class does not support local paths\n",
    "s3_model_path = AWS_HANDLER.upload_model_to_s3(model_dir_path)"
   ],
   "metadata": {
    "collapsed": false,
    "pycharm": {
     "name": "#%%\n"
    }
   }
  },
  {
   "cell_type": "code",
   "execution_count": 11,
   "outputs": [
    {
     "name": "stdout",
     "output_type": "stream",
     "text": [
      "2021-12-02 16:14:00.612533 Removing preexisting models and endpoints\n",
      "2021-12-02 16:14:00.643743 Creating model\n",
      "2021-12-02 16:14:00.644802 Deploying model\n"
     ]
    },
    {
     "ename": "ValueError",
     "evalue": "Unsupported Python version: py38. You may need to upgrade your SDK version (pip install -U sagemaker) for newer Python versions. Supported Python version(s): py37.",
     "output_type": "error",
     "traceback": [
      "\u001B[0;31m---------------------------------------------------------------------------\u001B[0m",
      "\u001B[0;31mValueError\u001B[0m                                Traceback (most recent call last)",
      "\u001B[0;32m<ipython-input-11-48705d86f56e>\u001B[0m in \u001B[0;36m<module>\u001B[0;34m\u001B[0m\n\u001B[1;32m     25\u001B[0m \u001B[0;34m\u001B[0m\u001B[0m\n\u001B[1;32m     26\u001B[0m \u001B[0mLOGGER\u001B[0m\u001B[0;34m.\u001B[0m\u001B[0mlog\u001B[0m\u001B[0;34m(\u001B[0m\u001B[0;34mf\"Deploying model\"\u001B[0m\u001B[0;34m)\u001B[0m\u001B[0;34m\u001B[0m\u001B[0;34m\u001B[0m\u001B[0m\n\u001B[0;32m---> 27\u001B[0;31m predictor = model.deploy(\n\u001B[0m\u001B[1;32m     28\u001B[0m     \u001B[0minstance_type\u001B[0m\u001B[0;34m=\u001B[0m\u001B[0mINSTANCE_TYPE\u001B[0m\u001B[0;34m,\u001B[0m\u001B[0;34m\u001B[0m\u001B[0;34m\u001B[0m\u001B[0m\n\u001B[1;32m     29\u001B[0m     \u001B[0mendpoint_name\u001B[0m\u001B[0;34m=\u001B[0m\u001B[0mconfig\u001B[0m\u001B[0;34m.\u001B[0m\u001B[0mMODEL_NAME\u001B[0m\u001B[0;34m,\u001B[0m\u001B[0;34m\u001B[0m\u001B[0;34m\u001B[0m\u001B[0m\n",
      "\u001B[0;32m~/projects/capia/venv/lib/python3.8/site-packages/sagemaker/model.py\u001B[0m in \u001B[0;36mdeploy\u001B[0;34m(self, initial_instance_count, instance_type, serializer, deserializer, accelerator_type, endpoint_name, tags, kms_key, wait, data_capture_config, **kwargs)\u001B[0m\n\u001B[1;32m    765\u001B[0m                 \u001B[0mself\u001B[0m\u001B[0;34m.\u001B[0m\u001B[0m_base_name\u001B[0m \u001B[0;34m=\u001B[0m \u001B[0;34m\"-\"\u001B[0m\u001B[0;34m.\u001B[0m\u001B[0mjoin\u001B[0m\u001B[0;34m(\u001B[0m\u001B[0;34m(\u001B[0m\u001B[0mself\u001B[0m\u001B[0;34m.\u001B[0m\u001B[0m_base_name\u001B[0m\u001B[0;34m,\u001B[0m \u001B[0mcompiled_model_suffix\u001B[0m\u001B[0;34m)\u001B[0m\u001B[0;34m)\u001B[0m\u001B[0;34m\u001B[0m\u001B[0;34m\u001B[0m\u001B[0m\n\u001B[1;32m    766\u001B[0m \u001B[0;34m\u001B[0m\u001B[0m\n\u001B[0;32m--> 767\u001B[0;31m         \u001B[0mself\u001B[0m\u001B[0;34m.\u001B[0m\u001B[0m_create_sagemaker_model\u001B[0m\u001B[0;34m(\u001B[0m\u001B[0minstance_type\u001B[0m\u001B[0;34m,\u001B[0m \u001B[0maccelerator_type\u001B[0m\u001B[0;34m,\u001B[0m \u001B[0mtags\u001B[0m\u001B[0;34m)\u001B[0m\u001B[0;34m\u001B[0m\u001B[0;34m\u001B[0m\u001B[0m\n\u001B[0m\u001B[1;32m    768\u001B[0m         production_variant = sagemaker.production_variant(\n\u001B[1;32m    769\u001B[0m             \u001B[0mself\u001B[0m\u001B[0;34m.\u001B[0m\u001B[0mname\u001B[0m\u001B[0;34m,\u001B[0m \u001B[0minstance_type\u001B[0m\u001B[0;34m,\u001B[0m \u001B[0minitial_instance_count\u001B[0m\u001B[0;34m,\u001B[0m \u001B[0maccelerator_type\u001B[0m\u001B[0;34m=\u001B[0m\u001B[0maccelerator_type\u001B[0m\u001B[0;34m\u001B[0m\u001B[0;34m\u001B[0m\u001B[0m\n",
      "\u001B[0;32m~/projects/capia/venv/lib/python3.8/site-packages/sagemaker/model.py\u001B[0m in \u001B[0;36m_create_sagemaker_model\u001B[0;34m(self, instance_type, accelerator_type, tags)\u001B[0m\n\u001B[1;32m    267\u001B[0m                 \u001B[0;34m/\u001B[0m\u001B[0mapi\u001B[0m\u001B[0;34m/\u001B[0m\u001B[0mlatest\u001B[0m\u001B[0;34m/\u001B[0m\u001B[0mreference\u001B[0m\u001B[0;34m/\u001B[0m\u001B[0mservices\u001B[0m\u001B[0;34m/\u001B[0m\u001B[0msagemaker\u001B[0m\u001B[0;34m.\u001B[0m\u001B[0mhtml\u001B[0m\u001B[0;31m#SageMaker.Client.add_tags\u001B[0m\u001B[0;34m\u001B[0m\u001B[0;34m\u001B[0m\u001B[0m\n\u001B[1;32m    268\u001B[0m         \"\"\"\n\u001B[0;32m--> 269\u001B[0;31m         \u001B[0mcontainer_def\u001B[0m \u001B[0;34m=\u001B[0m \u001B[0mself\u001B[0m\u001B[0;34m.\u001B[0m\u001B[0mprepare_container_def\u001B[0m\u001B[0;34m(\u001B[0m\u001B[0minstance_type\u001B[0m\u001B[0;34m,\u001B[0m \u001B[0maccelerator_type\u001B[0m\u001B[0;34m=\u001B[0m\u001B[0maccelerator_type\u001B[0m\u001B[0;34m)\u001B[0m\u001B[0;34m\u001B[0m\u001B[0;34m\u001B[0m\u001B[0m\n\u001B[0m\u001B[1;32m    270\u001B[0m \u001B[0;34m\u001B[0m\u001B[0m\n\u001B[1;32m    271\u001B[0m         \u001B[0mself\u001B[0m\u001B[0;34m.\u001B[0m\u001B[0m_ensure_base_name_if_needed\u001B[0m\u001B[0;34m(\u001B[0m\u001B[0mcontainer_def\u001B[0m\u001B[0;34m[\u001B[0m\u001B[0;34m\"Image\"\u001B[0m\u001B[0;34m]\u001B[0m\u001B[0;34m)\u001B[0m\u001B[0;34m\u001B[0m\u001B[0;34m\u001B[0m\u001B[0m\n",
      "\u001B[0;32m~/projects/capia/venv/lib/python3.8/site-packages/sagemaker/mxnet/model.py\u001B[0m in \u001B[0;36mprepare_container_def\u001B[0;34m(self, instance_type, accelerator_type)\u001B[0m\n\u001B[1;32m    238\u001B[0m \u001B[0;34m\u001B[0m\u001B[0m\n\u001B[1;32m    239\u001B[0m             \u001B[0mregion_name\u001B[0m \u001B[0;34m=\u001B[0m \u001B[0mself\u001B[0m\u001B[0;34m.\u001B[0m\u001B[0msagemaker_session\u001B[0m\u001B[0;34m.\u001B[0m\u001B[0mboto_session\u001B[0m\u001B[0;34m.\u001B[0m\u001B[0mregion_name\u001B[0m\u001B[0;34m\u001B[0m\u001B[0;34m\u001B[0m\u001B[0m\n\u001B[0;32m--> 240\u001B[0;31m             deploy_image = self.serving_image_uri(\n\u001B[0m\u001B[1;32m    241\u001B[0m                 \u001B[0mregion_name\u001B[0m\u001B[0;34m,\u001B[0m \u001B[0minstance_type\u001B[0m\u001B[0;34m,\u001B[0m \u001B[0maccelerator_type\u001B[0m\u001B[0;34m=\u001B[0m\u001B[0maccelerator_type\u001B[0m\u001B[0;34m\u001B[0m\u001B[0;34m\u001B[0m\u001B[0m\n\u001B[1;32m    242\u001B[0m             )\n",
      "\u001B[0;32m~/projects/capia/venv/lib/python3.8/site-packages/sagemaker/mxnet/model.py\u001B[0m in \u001B[0;36mserving_image_uri\u001B[0;34m(self, region_name, instance_type, accelerator_type)\u001B[0m\n\u001B[1;32m    268\u001B[0m \u001B[0;34m\u001B[0m\u001B[0m\n\u001B[1;32m    269\u001B[0m         \"\"\"\n\u001B[0;32m--> 270\u001B[0;31m         return image_uris.retrieve(\n\u001B[0m\u001B[1;32m    271\u001B[0m             \u001B[0mself\u001B[0m\u001B[0;34m.\u001B[0m\u001B[0m_framework_name\u001B[0m\u001B[0;34m,\u001B[0m\u001B[0;34m\u001B[0m\u001B[0;34m\u001B[0m\u001B[0m\n\u001B[1;32m    272\u001B[0m             \u001B[0mregion_name\u001B[0m\u001B[0;34m,\u001B[0m\u001B[0;34m\u001B[0m\u001B[0;34m\u001B[0m\u001B[0m\n",
      "\u001B[0;32m~/projects/capia/venv/lib/python3.8/site-packages/sagemaker/image_uris.py\u001B[0m in \u001B[0;36mretrieve\u001B[0;34m(framework, region, version, py_version, instance_type, accelerator_type, image_scope, container_version, distribution, base_framework_version, training_compiler_config)\u001B[0m\n\u001B[1;32m    100\u001B[0m         \u001B[0mversion_config\u001B[0m \u001B[0;34m=\u001B[0m \u001B[0mversion_config\u001B[0m\u001B[0;34m.\u001B[0m\u001B[0mget\u001B[0m\u001B[0;34m(\u001B[0m\u001B[0mfull_base_framework_version\u001B[0m\u001B[0;34m)\u001B[0m\u001B[0;34m\u001B[0m\u001B[0;34m\u001B[0m\u001B[0m\n\u001B[1;32m    101\u001B[0m \u001B[0;34m\u001B[0m\u001B[0m\n\u001B[0;32m--> 102\u001B[0;31m     \u001B[0mpy_version\u001B[0m \u001B[0;34m=\u001B[0m \u001B[0m_validate_py_version_and_set_if_needed\u001B[0m\u001B[0;34m(\u001B[0m\u001B[0mpy_version\u001B[0m\u001B[0;34m,\u001B[0m \u001B[0mversion_config\u001B[0m\u001B[0;34m,\u001B[0m \u001B[0mframework\u001B[0m\u001B[0;34m)\u001B[0m\u001B[0;34m\u001B[0m\u001B[0;34m\u001B[0m\u001B[0m\n\u001B[0m\u001B[1;32m    103\u001B[0m     \u001B[0mversion_config\u001B[0m \u001B[0;34m=\u001B[0m \u001B[0mversion_config\u001B[0m\u001B[0;34m.\u001B[0m\u001B[0mget\u001B[0m\u001B[0;34m(\u001B[0m\u001B[0mpy_version\u001B[0m\u001B[0;34m)\u001B[0m \u001B[0;32mor\u001B[0m \u001B[0mversion_config\u001B[0m\u001B[0;34m\u001B[0m\u001B[0;34m\u001B[0m\u001B[0m\n\u001B[1;32m    104\u001B[0m     \u001B[0mregistry\u001B[0m \u001B[0;34m=\u001B[0m \u001B[0m_registry_from_region\u001B[0m\u001B[0;34m(\u001B[0m\u001B[0mregion\u001B[0m\u001B[0;34m,\u001B[0m \u001B[0mversion_config\u001B[0m\u001B[0;34m[\u001B[0m\u001B[0;34m\"registries\"\u001B[0m\u001B[0;34m]\u001B[0m\u001B[0;34m)\u001B[0m\u001B[0;34m\u001B[0m\u001B[0;34m\u001B[0m\u001B[0m\n",
      "\u001B[0;32m~/projects/capia/venv/lib/python3.8/site-packages/sagemaker/image_uris.py\u001B[0m in \u001B[0;36m_validate_py_version_and_set_if_needed\u001B[0;34m(py_version, version_config, framework)\u001B[0m\n\u001B[1;32m    332\u001B[0m \u001B[0;34m\u001B[0m\u001B[0m\n\u001B[1;32m    333\u001B[0m     \u001B[0;31m# raise ValueError(f\"Available versions: {available_versions}\")\u001B[0m\u001B[0;34m\u001B[0m\u001B[0;34m\u001B[0m\u001B[0;34m\u001B[0m\u001B[0m\n\u001B[0;32m--> 334\u001B[0;31m     \u001B[0m_validate_arg\u001B[0m\u001B[0;34m(\u001B[0m\u001B[0mpy_version\u001B[0m\u001B[0;34m,\u001B[0m \u001B[0mavailable_versions\u001B[0m\u001B[0;34m,\u001B[0m \u001B[0;34m\"Python version\"\u001B[0m\u001B[0;34m)\u001B[0m\u001B[0;34m\u001B[0m\u001B[0;34m\u001B[0m\u001B[0m\n\u001B[0m\u001B[1;32m    335\u001B[0m     \u001B[0;32mreturn\u001B[0m \u001B[0mpy_version\u001B[0m\u001B[0;34m\u001B[0m\u001B[0;34m\u001B[0m\u001B[0m\n\u001B[1;32m    336\u001B[0m \u001B[0;34m\u001B[0m\u001B[0m\n",
      "\u001B[0;32m~/projects/capia/venv/lib/python3.8/site-packages/sagemaker/image_uris.py\u001B[0m in \u001B[0;36m_validate_arg\u001B[0;34m(arg, available_options, arg_name)\u001B[0m\n\u001B[1;32m    339\u001B[0m     \u001B[0;34m\"\"\"Checks if the arg is in the available options, and raises a ``ValueError`` if not.\"\"\"\u001B[0m\u001B[0;34m\u001B[0m\u001B[0;34m\u001B[0m\u001B[0m\n\u001B[1;32m    340\u001B[0m     \u001B[0;32mif\u001B[0m \u001B[0marg\u001B[0m \u001B[0;32mnot\u001B[0m \u001B[0;32min\u001B[0m \u001B[0mavailable_options\u001B[0m\u001B[0;34m:\u001B[0m\u001B[0;34m\u001B[0m\u001B[0;34m\u001B[0m\u001B[0m\n\u001B[0;32m--> 341\u001B[0;31m         raise ValueError(\n\u001B[0m\u001B[1;32m    342\u001B[0m             \u001B[0;34m\"Unsupported {arg_name}: {arg}. You may need to upgrade your SDK version \"\u001B[0m\u001B[0;34m\u001B[0m\u001B[0;34m\u001B[0m\u001B[0m\n\u001B[1;32m    343\u001B[0m             \u001B[0;34m\"(pip install -U sagemaker) for newer {arg_name}s. Supported {arg_name}(s): \"\u001B[0m\u001B[0;34m\u001B[0m\u001B[0;34m\u001B[0m\u001B[0m\n",
      "\u001B[0;31mValueError\u001B[0m: Unsupported Python version: py38. You may need to upgrade your SDK version (pip install -U sagemaker) for newer Python versions. Supported Python version(s): py37."
     ]
    }
   ],
   "source": [
    "#\n",
    "# Deploy model\n",
    "#\n",
    "\n",
    "LOGGER.log(f\"Removing preexisting models and endpoints\")\n",
    "try:\n",
    "    sagemaker_session.sagemaker_client.delete_model(config.MODEL_NAME)\n",
    "    sagemaker_session.sagemaker_client.delete_endpoint(config.MODEL_NAME)\n",
    "    sagemaker_session.sagemaker_client.delete_endpoint_config(config.MODEL_NAME)\n",
    "except:\n",
    "    pass\n",
    "\n",
    "LOGGER.log(f\"Creating model\")\n",
    "model = MXNetModel(\n",
    "    model_data=s3_model_path,\n",
    "    name=config.MODEL_NAME,\n",
    "    entry_point='sff.py',\n",
    "    source_dir=os.getcwd(),\n",
    "    role=config.SM_ROLE,\n",
    "    framework_version='1.8.0',  # Should be the same mxnet X.X.X version found in requirements.txt\n",
    "    py_version='py37',\n",
    "    sagemaker_session=sagemaker_session,\n",
    "    # container_log_level=logging.DEBUG\n",
    ")\n",
    "\n",
    "LOGGER.log(f\"Deploying model\")\n",
    "predictor = model.deploy(\n",
    "    instance_type=INSTANCE_TYPE,\n",
    "    endpoint_name=config.MODEL_NAME,\n",
    "    initial_instance_count=1)\n",
    "LOGGER.log(sagemaker_session.sagemaker_client.describe_model(config.MODEL_NAME))\n",
    "LOGGER.log(sagemaker_session.sagemaker_client.describe_endpoint_config(config.MODEL_NAME))\n",
    "LOGGER.log(f\"Predictor metadata [{predictor.__dict__}]\")\n",
    "\n",
    "if IS_LOCAL:\n",
    "    LOGGER.log(f\"http://localhost:{sagemaker_session.sagemaker_runtime_client.serving_port}/invocations\")\n",
    "else:\n",
    "    LOGGER.log(f\"http://???:{sagemaker_session.sagemaker_runtime_client.serving_port}/invocations\")\n"
   ],
   "metadata": {
    "collapsed": false,
    "pycharm": {
     "name": "#%%\n"
    }
   }
  }
 ],
 "metadata": {
  "kernelspec": {
   "name": "capia",
   "language": "python",
   "display_name": "Capia (venv)"
  },
  "language_info": {
   "codemirror_mode": {
    "name": "ipython",
    "version": 2
   },
   "file_extension": ".py",
   "mimetype": "text/x-python",
   "name": "python",
   "nbconvert_exporter": "python",
   "pygments_lexer": "ipython2",
   "version": "2.7.6"
  }
 },
 "nbformat": 4,
 "nbformat_minor": 0
}