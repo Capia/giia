{
 "cells": [
  {
   "cell_type": "code",
   "execution_count": null,
   "metadata": {
    "pycharm": {
     "name": "#%%\n"
    }
   },
   "outputs": [],
   "source": [
    "#\n",
    "# Setup constants\n",
    "#\n",
    "\n",
    "import subprocess\n",
    "\n",
    "MODEL_NAME = \"giia\"\n",
    "MODEL_VERSION = \"0.3.3\"\n",
    "DATASETS = [\n",
    "    \"datasets/SandP_1995_2020_daily.csv\",\n",
    "    \"datasets/AWK_2008IPO_2020_daily.csv\"\n",
    "]\n",
    "SM_ROLE ='arn:aws:iam::941048668662:role/service-role/AmazonSageMaker-ExecutionRole-20191206T145896'\n",
    "\n",
    "import boto3\n",
    "import os.path\n",
    "\n",
    "def isModified(bucket, key, fname):\n",
    "  s3 = boto3.resource('s3')\n",
    "  obj = s3.Object(bucket, key)\n",
    "  return int(obj.last_modified.strftime('%s')) != int(os.path.getmtime(fname))\n",
    "\n"
   ]
  }
 ],
 "metadata": {
  "kernelspec": {
   "name": "python3",
   "language": "python",
   "display_name": "Python 3"
  },
  "language_info": {
   "codemirror_mode": {
    "name": "ipython",
    "version": 3
   },
   "file_extension": ".py",
   "mimetype": "text/x-python",
   "name": "python",
   "nbconvert_exporter": "python",
   "pygments_lexer": "ipython3",
   "version": "3.7.5"
  }
 },
 "nbformat": 4,
 "nbformat_minor": 4
}