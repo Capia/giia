{
 "cells": [
  {
   "cell_type": "code",
   "execution_count": 35,
   "metadata": {},
   "outputs": [
    {
     "name": "stdout",
     "output_type": "stream",
     "text": [
      "Current working directory [/Users/jbeckman/projects/capia/giia/src]\n",
      "The autoreload extension is already loaded. To reload it, use:\n",
      "  %reload_ext autoreload\n"
     ]
    }
   ],
   "source": [
    "#\n",
    "# Initialization\n",
    "#\n",
    "\n",
    "import os\n",
    "import sys\n",
    "\n",
    "import ipynbname\n",
    "from pathlib import Path\n",
    "\n",
    "# Set notebook's src module path. Note that you may have to update your IDE's project settings to do the same for the\n",
    "#  local library imports to work the same\n",
    "MODULE_PATH = ipynbname.path().parent.parent\n",
    "sys.path.append(str(MODULE_PATH))\n",
    "\n",
    "# Keep paths consistent throughout notebook\n",
    "os.chdir(MODULE_PATH)\n",
    "\n",
    "# This should always be `./src`\n",
    "print(f\"Current working directory [{os.getcwd()}]\")\n",
    "\n",
    "# Place all local artifacts in a disposable, git-ignored directory\n",
    "local_artifact_dir = Path(os.getcwd()).parent / \"out\"\n",
    "local_artifact_dir.mkdir(parents=True, exist_ok=True)\n",
    "\n",
    "# Autoreload imports at the beginning of cell execution.\n",
    "#  https://ipython.org/ipython-doc/3/config/extensions/autoreload.html\n",
    "%load_ext autoreload\n",
    "%autoreload 2"
   ]
  },
  {
   "cell_type": "code",
   "execution_count": 36,
   "metadata": {},
   "outputs": [
    {
     "name": "stdout",
     "output_type": "stream",
     "text": [
      "2023-02-19 14:43:49.423105 The model id is [giia-transformer-1.1.2]\n",
      "2023-02-19 14:43:49.424160 The MXNet version is [1.9.1]\n",
      "2023-02-19 14:43:49.424272 The GluonTS version is [0.12.1]\n",
      "2023-02-19 14:43:49.424363 The SageMaker version is [2.111.0]\n",
      "2023-02-19 14:43:49.424540 The GPU count is [0]\n",
      "2023-02-19 14:43:49.443715 The nvidia-smi binary was not found and thus GPU computation is not supported. Using the default CPU computation\n"
     ]
    }
   ],
   "source": [
    "#\n",
    "# Setup utils\n",
    "#\n",
    "\n",
    "import subprocess\n",
    "\n",
    "from utils.logger_util import LoggerUtil\n",
    "from utils.utils import Utils\n",
    "from utils import config\n",
    "\n",
    "LOGGER = LoggerUtil(config.MODEL_ID, local_artifact_dir / \"logs\")\n",
    "UTILS = Utils(LOGGER)\n",
    "\n",
    "UTILS.describe_env()\n",
    "\n",
    "# AWS instance specs can be found here https://aws.amazon.com/sagemaker/pricing/\n",
    "# AWS_INSTANCE = 'ml.m5.large'        # 2 vCPU,   0 GPU,  8 GB memory,     $0.134/hour\n",
    "# AWS_INSTANCE = 'ml.m5.4xlarge'      # 16 vCPU,  0 GPU,  64 GB memory,    $0.922/hour\n",
    "# AWS_INSTANCE = 'ml.g4dn.xlarge'     # 4 vCPU,   1 GPU,  16 GB memory,    $0.736/hour\n",
    "AWS_INSTANCE = 'ml.g4dn.8xlarge'    # 32 vCPU,  1 GPU,  128 GB memory,   $2.72/hour\n",
    "# AWS_INSTANCE = 'ml.p2.xlarge'       # 4 vCPU,   1 GPU,  61 GB memory,    $0.900/hour\n",
    "# AWS_INSTANCE = 'ml.p3.2xlarge'      # 8 vCPU,   1 GPU,  61 GB memory,    $3.825/hour\n",
    "LOCAL_INSTANCE = 'local'\n",
    "\n",
    "try:\n",
    "    if subprocess.call('nvidia-smi') == 0:\n",
    "        LOCAL_INSTANCE = 'local_gpu'\n",
    "except:\n",
    "    LOGGER.log(\"The nvidia-smi binary was not found and thus GPU computation is not supported. Using the default CPU \"\n",
    "               \"computation\")\n",
    "\n",
    "# Change this to your desired instance type\n",
    "# INSTANCE_TYPE = AWS_INSTANCE\n",
    "INSTANCE_TYPE = LOCAL_INSTANCE\n",
    "IS_LOCAL = LOCAL_INSTANCE == INSTANCE_TYPE\n",
    "\n",
    "# Does the model use filedataset or CSVs\n",
    "FILEDATASET_BASED = True\n",
    "\n",
    "# Is the model univariate\n",
    "ONE_DIM_TARGET = True"
   ]
  },
  {
   "cell_type": "code",
   "execution_count": 37,
   "metadata": {},
   "outputs": [
    {
     "name": "stdout",
     "output_type": "stream",
     "text": [
      "2023-02-19 14:43:54.275464 First sample:\n",
      "2023-02-19 14:43:54.278621 \n",
      "              open    high     low   close  volume\n",
      "date                                              \n",
      "2020-01-01  128.66  128.66  128.66  128.66     0.0\n",
      "2023-02-19 14:43:54.278757 Last sample:\n",
      "2023-02-19 14:43:54.280988 \n",
      "                        open    high      low   close     volume\n",
      "date                                                            \n",
      "2023-02-07 01:43:00  1624.49  1624.6  1624.49  1624.6  23.077475\n",
      "2023-02-19 14:43:54.281101 Number of raw columns: 5\n",
      "2023-02-19 14:43:54.281188 Number of rows: 1631624\n"
     ]
    }
   ],
   "source": [
    "#\n",
    "# Parse dataset\n",
    "#\n",
    "\n",
    "from data_processing.parse import Parse\n",
    "\n",
    "PARSE = Parse(LOGGER)\n",
    "\n",
    "dataset_dir_path = local_artifact_dir / \"datasets\"\n",
    "\n",
    "# Get the dataset\n",
    "df = PARSE.get_df(\n",
    "    starting_date_truncate=\"2020-01-01 00:00:00\"\n",
    "    # starting_date_truncate=\"2021-03-01 00:00:00\"\n",
    ")"
   ]
  },
  {
   "cell_type": "code",
   "execution_count": null,
   "metadata": {},
   "outputs": [],
   "source": [
    "#\n",
    "# Plot data\n",
    "#\n",
    "\n",
    "import numpy as np\n",
    "import matplotlib.pyplot as plt\n",
    "from scipy.stats import laplace\n",
    "\n",
    "\n",
    "def plot_distribution(dataset):\n",
    "    #scale dataset by 1e6\n",
    "    dataset = dataset * 1e6\n",
    "\n",
    "    mu = np.mean(dataset)\n",
    "    # b = np.std(dataset) / np.sqrt(2)\n",
    "    # b = 5\n",
    "    mad = np.median(np.abs(dataset - np.median(dataset)))\n",
    "    b = mad / 0.674 # 3 sigma\n",
    "    print(f\"mu={mu}, b={b}\")\n",
    "    synthetic_values = laplace.rvs(loc=mu, scale=b, size=len(dataset))\n",
    "\n",
    "    fig, ax = plt.subplots()\n",
    "    ax.hist(dataset, bins=500, alpha=0.5, label='Original Data')\n",
    "    ax.hist(synthetic_values, bins=50, alpha=0.5, label='Synthetic Data')\n",
    "    ax.legend()\n",
    "    plt.xlim([-2e6, 2e6])\n",
    "    plt.show()\n",
    "    # plt.grid(which=\"both\")\n",
    "    # plt.legend(legend, loc=\"upper left\")\n",
    "    # plt.show()\n",
    "\n",
    "plot_distribution(df[\"roc\"])\n"
   ]
  },
  {
   "cell_type": "code",
   "execution_count": null,
   "outputs": [],
   "source": [],
   "metadata": {
    "collapsed": false
   }
  }
 ],
 "metadata": {
  "kernelspec": {
   "display_name": "giia (venv)",
   "language": "python",
   "name": "giia"
  },
  "language_info": {
   "codemirror_mode": {
    "name": "ipython",
    "version": 3
   },
   "file_extension": ".py",
   "mimetype": "text/x-python",
   "name": "python",
   "nbconvert_exporter": "python",
   "pygments_lexer": "ipython3",
   "version": "3.7.12"
  }
 },
 "nbformat": 4,
 "nbformat_minor": 4
}
