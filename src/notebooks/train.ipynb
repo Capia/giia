{
 "cells": [
  {
   "cell_type": "code",
   "execution_count": null,
   "metadata": {},
   "outputs": [],
   "source": [
    "#\n",
    "# Setup constants\n",
    "#\n",
    "\n",
    "import subprocess\n",
    "\n",
    "MODEL_NAME = \"giia\"\n",
    "MODEL_VERSION = \"0.3.3\"\n",
    "DATASETS = [\n",
    "    \"datasets/SandP_1995_2020_daily.csv\",\n",
    "    \"datasets/AWK_2008IPO_2020_daily.csv\"\n",
    "]\n",
    "SM_ROLE ='arn:aws:iam::941048668662:role/service-role/AmazonSageMaker-ExecutionRole-20191206T145896'\n",
    "\n",
    "AWS_INSTANCE = 'ml.m5.large'\n",
    "LOCAL_INSTANCE = 'local'\n",
    "try:\n",
    "    if subprocess.call('nvidia-smi') == 0:\n",
    "        LOCAL_INSTANCE = 'local_gpu'\n",
    "except:\n",
    "    print(\"The nvidia-smi binary was not found and thus GPU computation is not supported. Using the default CPU \"\n",
    "          \"computation\")\n",
    "\n",
    "# Change this to your desired instance type\n",
    "INSTANCE_TYPE = LOCAL_INSTANCE\n",
    "IS_LOCAL = LOCAL_INSTANCE==INSTANCE_TYPE\n",
    "\n",
    "MODULE_PATH = \"\""
   ]
  },
  {
   "cell_type": "code",
   "execution_count": null,
   "metadata": {},
   "outputs": [],
   "source": [
    "#\n",
    "# Initialization\n",
    "#\n",
    "\n",
    "import os\n",
    "import sys\n",
    "import cache_magic\n",
    "from pathlib import Path\n",
    "\n",
    "# Set notebook's src module path. Note that you may have to update your IDE's project settings to do the same for the\n",
    "#  local library imports to work the same\n",
    "%cache MODULE_PATH = os.path.dirname(Path().resolve())\n",
    "sys.path.append(MODULE_PATH)\n",
    "\n",
    "# Keep paths consistent throughout notebook\n",
    "os.chdir(MODULE_PATH)\n",
    "\n",
    "# Autoreload imports at the beginning of cell execution.\n",
    "#  https://ipython.org/ipython-doc/3/config/extensions/autoreload.html\n",
    "%load_ext autoreload\n",
    "%autoreload 2\n",
    "\n",
    "from utils.logging import LoggerUtil\n",
    "from utils.utils import Utils\n",
    "\n",
    "LOGGER = LoggerUtil(f\"{MODEL_NAME}-{MODEL_VERSION}\")\n",
    "UTILS = Utils(LOGGER)\n",
    "\n",
    "LOGGER.log(\"Current working directory [{}]\".format(os.getcwd()))\n",
    "UTILS.describe_env()"
   ]
  },
  {
   "cell_type": "code",
   "execution_count": null,
   "metadata": {},
   "outputs": [],
   "source": [
    "#\n",
    "# Parse dataset\n",
    "#\n",
    "\n",
    "from data_processing.parse import Parse\n",
    "\n",
    "PARSE = Parse(LOGGER)\n",
    "\n",
    "# Creates train and test dataset CSVs\n",
    "\n",
    "parsed_dataset={}\n",
    "\n",
    "for dataset in set(DATASETS):\n",
    "    train_dataset, test_dataset = PARSE.split_train_test_dataset(dataset)\n",
    "    parsed_dataset[dataset] = {\n",
    "        \"train_dataset\": train_dataset,\n",
    "        \"test_dataset\": test_dataset\n",
    "    }"
   ]
  },
  {
   "cell_type": "code",
   "execution_count": null,
   "metadata": {},
   "outputs": [],
   "source": [
    "#\n",
    "# Setup local/aws environment. If aws, upload the datasets to S3\n",
    "#\n",
    "\n",
    "from data_processing.upload import Upload\n",
    "from sagemaker import LocalSession\n",
    "\n",
    "UPLOAD = Upload(LOGGER)\n",
    "\n",
    "sagemaker_session = None\n",
    "\n",
    "if IS_LOCAL:\n",
    "    LOGGER.log(\"Notebook is set to local mode, not uploading to S3\")\n",
    "    for key, value in parsed_dataset.items():\n",
    "        value[\"train_dataset_path\"] = \"file://{}/{}\".format(os.getcwd(), value[\"train_dataset\"])\n",
    "        value[\"test_dataset_path\"] = \"file://{}/{}\".format(os.getcwd(), value[\"test_dataset\"])\n",
    "\n",
    "    sagemaker_session = LocalSession()\n",
    "    sagemaker_session.config = {'local': {'local_code': True}}\n",
    "else:\n",
    "    for key, value in parsed_dataset.items():\n",
    "        value[\"train_dataset_path\"], value[\"test_dataset_path\"] = UPLOAD.upload_to_sagemaker_s3_bucket(\n",
    "            f\"{MODEL_NAME}-{MODEL_VERSION}\", value[\"train_dataset\"], value[\"test_dataset\"])\n",
    "    sagemaker_session = UPLOAD.sagemaker_session"
   ]
  },
  {
   "cell_type": "code",
   "execution_count": null,
   "metadata": {
    "pycharm": {
     "name": "#%%\n"
    }
   },
   "outputs": [],
   "source": [
    "#\n",
    "# Configure sagemaker and estimator\n",
    "#\n",
    "\n",
    "from ml.train import Train\n",
    "\n",
    "TRAIN = Train(LOGGER)\n",
    "\n",
    "estimator = TRAIN.create_model(SM_ROLE, INSTANCE_TYPE, sagemaker_session)\n",
    "TRAIN.fit_model(estimator, parsed_dataset)"
   ]
  },
  {
   "cell_type": "code",
   "execution_count": null,
   "metadata": {
    "pycharm": {
     "name": "#%%\n"
    }
   },
   "outputs": [],
   "source": [
    "#\n",
    "# NOTE: FURTHER CELLS ARE COMPATIBLE WITH AWS SAGEMAKER ONLY, LOCAL MODE WILL NOT WORK\n",
    "# Hyperparameter tune the model\n",
    "#\n",
    "\n",
    "from ml.tune import Tune\n",
    "\n",
    "TUNE = Tune(LOGGER)\n",
    "\n",
    "tuner = TUNE.create_tuner(estimator)\n",
    "tuning_job_name = TUNE.fit_tuner(tuner, parsed_dataset)"
   ]
  },
  {
   "cell_type": "code",
   "execution_count": null,
   "metadata": {
    "pycharm": {
     "name": "#%%\n"
    }
   },
   "outputs": [],
   "source": [
    "#\n",
    "# Get updates for Hyperparameter tune job. Ensure this is completed before going to the next cell\n",
    "#\n",
    "\n",
    "TUNE.get_tune_job_update()"
   ]
  },
  {
   "cell_type": "code",
   "execution_count": null,
   "metadata": {
    "pycharm": {
     "name": "#%%\n"
    }
   },
   "outputs": [],
   "source": [
    "#\n",
    "# Evaluate the metrics of the tune job\n",
    "#\n",
    "\n",
    "TUNE.report_job_analytics()\n"
   ]
  }
 ],
 "metadata": {
  "kernelspec": {
   "display_name": "Python 3",
   "language": "python",
   "name": "python3"
  },
  "language_info": {
   "codemirror_mode": {
    "name": "ipython",
    "version": 3
   },
   "file_extension": ".py",
   "mimetype": "text/x-python",
   "name": "python",
   "nbconvert_exporter": "python",
   "pygments_lexer": "ipython3",
   "version": "3.7.5"
  }
 },
 "nbformat": 4,
 "nbformat_minor": 4
}
