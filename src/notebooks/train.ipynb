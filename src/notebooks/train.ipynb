{
 "cells": [
  {
   "cell_type": "code",
   "execution_count": 1,
   "metadata": {},
   "outputs": [],
   "source": [
    "#\n",
    "# Setup constants\n",
    "#\n",
    "\n",
    "MODEL_NAME = \"giia\"\n",
    "# DATASET = \"datasets/SandP_1995_2019_monthly.csv\"\n",
    "DATASET = \"datasets/SandP_1995_2020_daily.csv\"\n",
    "SM_ROLE ='arn:aws:iam::941048668662:role/service-role/AmazonSageMaker-ExecutionRole-20191206T145896'\n",
    "\n",
    "LOCAL_INSTANCE='local'\n",
    "AWS_INSTANCE = 'ml.m5.large'\n",
    "INSTANCE_TYPE = LOCAL_INSTANCE\n",
    "IS_LOCAL = LOCAL_INSTANCE==INSTANCE_TYPE"
   ]
  },
  {
   "cell_type": "code",
   "execution_count": 7,
   "metadata": {},
   "outputs": [
    {
     "name": "stdout",
     "output_type": "stream",
     "text": [
      "The autoreload extension is already loaded. To reload it, use:\n",
      "  %reload_ext autoreload\n",
      "2020-05-26 07:18:23.124532 Current working directory [/Users/jbeckman/Projects/plutus-realm/gai/AmazonSageMaker-Gia/src]\n",
      "2020-05-26 07:18:23.124798 1.6.0\n",
      "2020-05-26 07:18:23.124965 The GPU count is [0]\n"
     ]
    }
   ],
   "source": [
    "#\n",
    "# Initialization\n",
    "#\n",
    "\n",
    "import os\n",
    "import sys\n",
    "\n",
    "# Set notebook's src module path. Note that you may have to update your IDE's project settings to do the same for the\n",
    "#  local library imports to work the same\n",
    "module_path = os.path.dirname(os.path.dirname(os.path.abspath(''))) + '/src'\n",
    "sys.path.append(module_path)\n",
    "\n",
    "# Keep paths consistent throughout notebook\n",
    "os.chdir(module_path)\n",
    "\n",
    "# Autoreload imports at the beginning of cell execution.\n",
    "#  https://ipython.org/ipython-doc/3/config/extensions/autoreload.html\n",
    "%load_ext autoreload\n",
    "%autoreload 2\n",
    "\n",
    "from utils.logging import LoggerUtil\n",
    "from utils.utils import Utils\n",
    "\n",
    "LOGGER = LoggerUtil(MODEL_NAME)\n",
    "UTILS = Utils(LOGGER)\n",
    "\n",
    "LOGGER.log(\"Current working directory [{}]\".format(os.getcwd()))\n",
    "UTILS.describe_env()"
   ]
  },
  {
   "cell_type": "code",
   "execution_count": 34,
   "metadata": {},
   "outputs": [
    {
     "name": "stdout",
     "output_type": "stream",
     "text": [
      "2020-05-26 08:04:50.738965 First sample:\n",
      "2020-05-26 08:04:50.739919                   Open        High         Low       Close   Adj Close  \\\n",
      "Date                                                                     \n",
      "1995-01-03  459.209991  459.269989  457.200012  459.109985  459.109985   \n",
      "\n",
      "               Volume  \n",
      "Date                   \n",
      "1995-01-03  262450000  \n",
      "2020-05-26 08:04:50.752809 \n",
      "Last sample:\n",
      "2020-05-26 08:04:50.753572                   Open         High          Low        Close    Adj Close  \\\n",
      "Date                                                                         \n",
      "2020-04-09  2776.98999  2818.570068  2762.360107  2789.820068  2789.820068   \n",
      "\n",
      "                Volume  \n",
      "Date                    \n",
      "2020-04-09  7880140000  \n",
      "2020-05-26 08:04:50.768708 datasets/train.csv\n"
     ]
    }
   ],
   "source": [
    "#\n",
    "# Parse dataset\n",
    "#\n",
    "\n",
    "from data_processing.parse import Parse\n",
    "\n",
    "PARSE = Parse(LOGGER)\n",
    "\n",
    "# Creates train and test dataset CSVs\n",
    "train_dataset_path, test_dataset_path = PARSE.split_train_test_dataset(DATASET)"
   ]
  },
  {
   "cell_type": "code",
   "execution_count": 41,
   "metadata": {},
   "outputs": [
    {
     "name": "stdout",
     "output_type": "stream",
     "text": [
      "2020-05-26 08:08:26.467392 Data will be uploaded to: \n",
      "2020-05-26 08:08:26.696060 Uploading file to s3://sagemaker-us-east-1-941048668662/giia/train/train.csv\n",
      "2020-05-26 08:08:28.644484 Uploading file to s3://sagemaker-us-east-1-941048668662/giia/test/test.csv\n",
      "2020-05-26 08:08:29.855871 Date,Open,High,Low,Close,Adj Close,Volume\n",
      "...\n"
     ]
    }
   ],
   "source": [
    "#\n",
    "# Upload dataset(s) to S3\n",
    "# Dataset retrieved from:\n",
    "#   https://finance.yahoo.com/quote/%5EGSPC/history?period1=788936400&period2=1564545600&interval=1mo&filter=history&frequency=1mo\n",
    "#\n",
    "\n",
    "from data_processing.upload import Upload\n",
    "from sagemaker.local import LocalSession\n",
    "\n",
    "UPLOAD = Upload(LOGGER)\n",
    "sagemaker_session = None\n",
    "\n",
    "# if IS_LOCAL:\n",
    "#     LOGGER.log(\"Notebook is set to local mode, not uploading\")\n",
    "#     train_dataset_path = \"file://{}/{}\".format(os.getcwd(), train_dataset_path)\n",
    "#     test_dataset_path = \"file://{}/{}\".format(os.getcwd(), test_dataset_path)\n",
    "#\n",
    "#     sagemaker_session = LocalSession()\n",
    "#     sagemaker_session.config = {'local': {'local_code': True}}\n",
    "# else:\n",
    "train_dataset_path, test_dataset_path = UPLOAD.upload_to_sagemaker_s3_bucket(\n",
    "    MODEL_NAME, train_dataset_path, test_dataset_path)\n",
    "    # sagemaker_session = UPLOAD.sagemaker_session"
   ]
  },
  {
   "cell_type": "code",
   "execution_count": 44,
   "metadata": {
    "pycharm": {
     "name": "#%%\n"
    }
   },
   "outputs": [
    {
     "name": "stdout",
     "output_type": "stream",
     "text": [
      "s3://sagemaker-us-east-1-941048668662/giia/train\n",
      "Creating tmpa55gic40_algo-1-cg1ka_1 ... \r\n",
      "\u001B[1BAttaching to tmpa55gic40_algo-1-cg1ka_12mdone\u001B[0m\n",
      "\u001B[36malgo-1-cg1ka_1  |\u001B[0m 2020-05-26 12:20:59,247 sagemaker-containers INFO     Imported framework sagemaker_mxnet_container.training\r\n",
      "\u001B[36malgo-1-cg1ka_1  |\u001B[0m 2020-05-26 12:20:59,259 sagemaker-containers INFO     No GPUs detected (normal if no gpus installed)\r\n",
      "\u001B[36malgo-1-cg1ka_1  |\u001B[0m 2020-05-26 12:20:59,273 sagemaker_mxnet_container.training INFO     MXNet training environment: {'SM_HOSTS': '[\"algo-1-cg1ka\"]', 'SM_NETWORK_INTERFACE_NAME': 'eth0', 'SM_HPS': '{\"dropout_rate\":0.02,\"epochs\":6,\"num_layers\":4,\"prediction_length\":13}', 'SM_USER_ENTRY_POINT': 'ml/train.py', 'SM_FRAMEWORK_PARAMS': '{}', 'SM_RESOURCE_CONFIG': '{\"current_host\":\"algo-1-cg1ka\",\"hosts\":[\"algo-1-cg1ka\"]}', 'SM_INPUT_DATA_CONFIG': '{\"test\":{\"TrainingInputMode\":\"File\"},\"train\":{\"TrainingInputMode\":\"File\"}}', 'SM_OUTPUT_DATA_DIR': '/opt/ml/output/data', 'SM_CHANNELS': '[\"test\",\"train\"]', 'SM_CURRENT_HOST': 'algo-1-cg1ka', 'SM_MODULE_NAME': 'ml/train', 'SM_LOG_LEVEL': '20', 'SM_FRAMEWORK_MODULE': 'sagemaker_mxnet_container.training:main', 'SM_INPUT_DIR': '/opt/ml/input', 'SM_INPUT_CONFIG_DIR': '/opt/ml/input/config', 'SM_OUTPUT_DIR': '/opt/ml/output', 'SM_NUM_CPUS': '6', 'SM_NUM_GPUS': '0', 'SM_MODEL_DIR': '/opt/ml/model', 'SM_MODULE_DIR': 's3://sagemaker-us-east-1-941048668662/mxnet-training-2020-05-26-12-20-55-280/source/sourcedir.tar.gz', 'SM_TRAINING_ENV': '{\"additional_framework_parameters\":{},\"channel_input_dirs\":{\"test\":\"/opt/ml/input/data/test\",\"train\":\"/opt/ml/input/data/train\"},\"current_host\":\"algo-1-cg1ka\",\"framework_module\":\"sagemaker_mxnet_container.training:main\",\"hosts\":[\"algo-1-cg1ka\"],\"hyperparameters\":{\"dropout_rate\":0.02,\"epochs\":6,\"num_layers\":4,\"prediction_length\":13},\"input_config_dir\":\"/opt/ml/input/config\",\"input_data_config\":{\"test\":{\"TrainingInputMode\":\"File\"},\"train\":{\"TrainingInputMode\":\"File\"}},\"input_dir\":\"/opt/ml/input\",\"is_master\":true,\"job_name\":\"mxnet-training-2020-05-26-12-20-55-280\",\"log_level\":20,\"master_hostname\":\"algo-1-cg1ka\",\"model_dir\":\"/opt/ml/model\",\"module_dir\":\"s3://sagemaker-us-east-1-941048668662/mxnet-training-2020-05-26-12-20-55-280/source/sourcedir.tar.gz\",\"module_name\":\"ml/train\",\"network_interface_name\":\"eth0\",\"num_cpus\":6,\"num_gpus\":0,\"output_data_dir\":\"/opt/ml/output/data\",\"output_dir\":\"/opt/ml/output\",\"output_intermediate_dir\":\"/opt/ml/output/intermediate\",\"resource_config\":{\"current_host\":\"algo-1-cg1ka\",\"hosts\":[\"algo-1-cg1ka\"]},\"user_entry_point\":\"ml/train.py\"}', 'SM_USER_ARGS': '[\"--dropout_rate\",\"0.02\",\"--epochs\",\"6\",\"--num_layers\",\"4\",\"--prediction_length\",\"13\"]', 'SM_OUTPUT_INTERMEDIATE_DIR': '/opt/ml/output/intermediate', 'SM_CHANNEL_TRAIN': '/opt/ml/input/data/train', 'SM_CHANNEL_TEST': '/opt/ml/input/data/test', 'SM_HP_EPOCHS': '6', 'SM_HP_PREDICTION_LENGTH': '13', 'SM_HP_NUM_LAYERS': '4', 'SM_HP_DROPOUT_RATE': '0.02'}\r\n",
      "\u001B[36malgo-1-cg1ka_1  |\u001B[0m 2020-05-26 12:20:59,675 sagemaker-containers INFO     Module default_user_module_name does not provide a setup.py. \r\n",
      "\u001B[36malgo-1-cg1ka_1  |\u001B[0m Generating setup.py\r\n",
      "\u001B[36malgo-1-cg1ka_1  |\u001B[0m 2020-05-26 12:20:59,675 sagemaker-containers INFO     Generating setup.cfg\r\n",
      "\u001B[36malgo-1-cg1ka_1  |\u001B[0m 2020-05-26 12:20:59,676 sagemaker-containers INFO     Generating MANIFEST.in\r\n",
      "\u001B[36malgo-1-cg1ka_1  |\u001B[0m 2020-05-26 12:20:59,676 sagemaker-containers INFO     Installing module with the following command:\r\n",
      "\u001B[36malgo-1-cg1ka_1  |\u001B[0m /usr/local/bin/python3.6 -m pip install . \r\n",
      "\u001B[36malgo-1-cg1ka_1  |\u001B[0m Processing /tmp/tmpa12om21u/module_dir\r\n",
      "\u001B[36malgo-1-cg1ka_1  |\u001B[0m Installing collected packages: default-user-module-name\r\n",
      "\u001B[36malgo-1-cg1ka_1  |\u001B[0m     Running setup.py install for default-user-module-name ... \u001B[?25l-\b \bdone\r\n",
      "\u001B[36malgo-1-cg1ka_1  |\u001B[0m \u001B[?25hSuccessfully installed default-user-module-name-1.0.0\r\n",
      "\u001B[36malgo-1-cg1ka_1  |\u001B[0m \u001B[33mWARNING: You are using pip version 19.3.1; however, version 20.1.1 is available.\r\n",
      "\u001B[36malgo-1-cg1ka_1  |\u001B[0m You should consider upgrading via the 'pip install --upgrade pip' command.\u001B[0m\r\n",
      "\u001B[36malgo-1-cg1ka_1  |\u001B[0m 2020-05-26 12:21:01,699 sagemaker-containers INFO     No GPUs detected (normal if no gpus installed)\r\n",
      "\u001B[36malgo-1-cg1ka_1  |\u001B[0m 2020-05-26 12:21:01,762 sagemaker-containers INFO     No GPUs detected (normal if no gpus installed)\r\n",
      "\u001B[36malgo-1-cg1ka_1  |\u001B[0m 2020-05-26 12:21:01,805 sagemaker-containers INFO     No GPUs detected (normal if no gpus installed)\r\n",
      "\u001B[36malgo-1-cg1ka_1  |\u001B[0m 2020-05-26 12:21:01,830 sagemaker-containers INFO     Invoking user script\r\n",
      "\u001B[36malgo-1-cg1ka_1  |\u001B[0m \r\n",
      "\u001B[36malgo-1-cg1ka_1  |\u001B[0m Training Env:\r\n",
      "\u001B[36malgo-1-cg1ka_1  |\u001B[0m \r\n",
      "\u001B[36malgo-1-cg1ka_1  |\u001B[0m {\r\n",
      "\u001B[36malgo-1-cg1ka_1  |\u001B[0m     \"additional_framework_parameters\": {},\r\n",
      "\u001B[36malgo-1-cg1ka_1  |\u001B[0m     \"channel_input_dirs\": {\r\n",
      "\u001B[36malgo-1-cg1ka_1  |\u001B[0m         \"train\": \"/opt/ml/input/data/train\",\r\n",
      "\u001B[36malgo-1-cg1ka_1  |\u001B[0m         \"test\": \"/opt/ml/input/data/test\"\r\n",
      "\u001B[36malgo-1-cg1ka_1  |\u001B[0m     },\r\n",
      "\u001B[36malgo-1-cg1ka_1  |\u001B[0m     \"current_host\": \"algo-1-cg1ka\",\r\n",
      "\u001B[36malgo-1-cg1ka_1  |\u001B[0m     \"framework_module\": \"sagemaker_mxnet_container.training:main\",\r\n",
      "\u001B[36malgo-1-cg1ka_1  |\u001B[0m     \"hosts\": [\r\n",
      "\u001B[36malgo-1-cg1ka_1  |\u001B[0m         \"algo-1-cg1ka\"\r\n",
      "\u001B[36malgo-1-cg1ka_1  |\u001B[0m     ],\r\n",
      "\u001B[36malgo-1-cg1ka_1  |\u001B[0m     \"hyperparameters\": {\r\n",
      "\u001B[36malgo-1-cg1ka_1  |\u001B[0m         \"epochs\": 6,\r\n",
      "\u001B[36malgo-1-cg1ka_1  |\u001B[0m         \"prediction_length\": 13,\r\n",
      "\u001B[36malgo-1-cg1ka_1  |\u001B[0m         \"num_layers\": 4,\r\n",
      "\u001B[36malgo-1-cg1ka_1  |\u001B[0m         \"dropout_rate\": 0.02\r\n",
      "\u001B[36malgo-1-cg1ka_1  |\u001B[0m     },\r\n",
      "\u001B[36malgo-1-cg1ka_1  |\u001B[0m     \"input_config_dir\": \"/opt/ml/input/config\",\r\n",
      "\u001B[36malgo-1-cg1ka_1  |\u001B[0m     \"input_data_config\": {\r\n",
      "\u001B[36malgo-1-cg1ka_1  |\u001B[0m         \"train\": {\r\n",
      "\u001B[36malgo-1-cg1ka_1  |\u001B[0m             \"TrainingInputMode\": \"File\"\r\n",
      "\u001B[36malgo-1-cg1ka_1  |\u001B[0m         },\r\n",
      "\u001B[36malgo-1-cg1ka_1  |\u001B[0m         \"test\": {\r\n",
      "\u001B[36malgo-1-cg1ka_1  |\u001B[0m             \"TrainingInputMode\": \"File\"\r\n",
      "\u001B[36malgo-1-cg1ka_1  |\u001B[0m         }\r\n",
      "\u001B[36malgo-1-cg1ka_1  |\u001B[0m     },\r\n",
      "\u001B[36malgo-1-cg1ka_1  |\u001B[0m     \"input_dir\": \"/opt/ml/input\",\r\n",
      "\u001B[36malgo-1-cg1ka_1  |\u001B[0m     \"is_master\": true,\r\n",
      "\u001B[36malgo-1-cg1ka_1  |\u001B[0m     \"job_name\": \"mxnet-training-2020-05-26-12-20-55-280\",\r\n",
      "\u001B[36malgo-1-cg1ka_1  |\u001B[0m     \"log_level\": 20,\r\n",
      "\u001B[36malgo-1-cg1ka_1  |\u001B[0m     \"master_hostname\": \"algo-1-cg1ka\",\r\n",
      "\u001B[36malgo-1-cg1ka_1  |\u001B[0m     \"model_dir\": \"/opt/ml/model\",\r\n",
      "\u001B[36malgo-1-cg1ka_1  |\u001B[0m     \"module_dir\": \"s3://sagemaker-us-east-1-941048668662/mxnet-training-2020-05-26-12-20-55-280/source/sourcedir.tar.gz\",\r\n",
      "\u001B[36malgo-1-cg1ka_1  |\u001B[0m     \"module_name\": \"ml/train\",\r\n",
      "\u001B[36malgo-1-cg1ka_1  |\u001B[0m     \"network_interface_name\": \"eth0\",\r\n",
      "\u001B[36malgo-1-cg1ka_1  |\u001B[0m     \"num_cpus\": 6,\r\n",
      "\u001B[36malgo-1-cg1ka_1  |\u001B[0m     \"num_gpus\": 0,\r\n",
      "\u001B[36malgo-1-cg1ka_1  |\u001B[0m     \"output_data_dir\": \"/opt/ml/output/data\",\r\n",
      "\u001B[36malgo-1-cg1ka_1  |\u001B[0m     \"output_dir\": \"/opt/ml/output\",\r\n",
      "\u001B[36malgo-1-cg1ka_1  |\u001B[0m     \"output_intermediate_dir\": \"/opt/ml/output/intermediate\",\r\n",
      "\u001B[36malgo-1-cg1ka_1  |\u001B[0m     \"resource_config\": {\r\n",
      "\u001B[36malgo-1-cg1ka_1  |\u001B[0m         \"current_host\": \"algo-1-cg1ka\",\r\n",
      "\u001B[36malgo-1-cg1ka_1  |\u001B[0m         \"hosts\": [\r\n",
      "\u001B[36malgo-1-cg1ka_1  |\u001B[0m             \"algo-1-cg1ka\"\r\n",
      "\u001B[36malgo-1-cg1ka_1  |\u001B[0m         ]\r\n",
      "\u001B[36malgo-1-cg1ka_1  |\u001B[0m     },\r\n",
      "\u001B[36malgo-1-cg1ka_1  |\u001B[0m     \"user_entry_point\": \"ml/train.py\"\r\n",
      "\u001B[36malgo-1-cg1ka_1  |\u001B[0m }\r\n",
      "\u001B[36malgo-1-cg1ka_1  |\u001B[0m \r\n",
      "\u001B[36malgo-1-cg1ka_1  |\u001B[0m Environment variables:\r\n",
      "\u001B[36malgo-1-cg1ka_1  |\u001B[0m \r\n",
      "\u001B[36malgo-1-cg1ka_1  |\u001B[0m SM_HOSTS=[\"algo-1-cg1ka\"]\r\n",
      "\u001B[36malgo-1-cg1ka_1  |\u001B[0m SM_NETWORK_INTERFACE_NAME=eth0\r\n",
      "\u001B[36malgo-1-cg1ka_1  |\u001B[0m SM_HPS={\"dropout_rate\":0.02,\"epochs\":6,\"num_layers\":4,\"prediction_length\":13}\r\n",
      "\u001B[36malgo-1-cg1ka_1  |\u001B[0m SM_USER_ENTRY_POINT=ml/train.py\r\n",
      "\u001B[36malgo-1-cg1ka_1  |\u001B[0m SM_FRAMEWORK_PARAMS={}\r\n",
      "\u001B[36malgo-1-cg1ka_1  |\u001B[0m SM_RESOURCE_CONFIG={\"current_host\":\"algo-1-cg1ka\",\"hosts\":[\"algo-1-cg1ka\"]}\r\n",
      "\u001B[36malgo-1-cg1ka_1  |\u001B[0m SM_INPUT_DATA_CONFIG={\"test\":{\"TrainingInputMode\":\"File\"},\"train\":{\"TrainingInputMode\":\"File\"}}\r\n",
      "\u001B[36malgo-1-cg1ka_1  |\u001B[0m SM_OUTPUT_DATA_DIR=/opt/ml/output/data\r\n",
      "\u001B[36malgo-1-cg1ka_1  |\u001B[0m SM_CHANNELS=[\"test\",\"train\"]\r\n",
      "\u001B[36malgo-1-cg1ka_1  |\u001B[0m SM_CURRENT_HOST=algo-1-cg1ka\r\n",
      "\u001B[36malgo-1-cg1ka_1  |\u001B[0m SM_MODULE_NAME=ml/train\r\n",
      "\u001B[36malgo-1-cg1ka_1  |\u001B[0m SM_LOG_LEVEL=20\r\n",
      "\u001B[36malgo-1-cg1ka_1  |\u001B[0m SM_FRAMEWORK_MODULE=sagemaker_mxnet_container.training:main\r\n",
      "\u001B[36malgo-1-cg1ka_1  |\u001B[0m SM_INPUT_DIR=/opt/ml/input\r\n",
      "\u001B[36malgo-1-cg1ka_1  |\u001B[0m SM_INPUT_CONFIG_DIR=/opt/ml/input/config\r\n",
      "\u001B[36malgo-1-cg1ka_1  |\u001B[0m SM_OUTPUT_DIR=/opt/ml/output\r\n",
      "\u001B[36malgo-1-cg1ka_1  |\u001B[0m SM_NUM_CPUS=6\r\n",
      "\u001B[36malgo-1-cg1ka_1  |\u001B[0m SM_NUM_GPUS=0\r\n",
      "\u001B[36malgo-1-cg1ka_1  |\u001B[0m SM_MODEL_DIR=/opt/ml/model\r\n",
      "\u001B[36malgo-1-cg1ka_1  |\u001B[0m SM_MODULE_DIR=s3://sagemaker-us-east-1-941048668662/mxnet-training-2020-05-26-12-20-55-280/source/sourcedir.tar.gz\r\n",
      "\u001B[36malgo-1-cg1ka_1  |\u001B[0m SM_TRAINING_ENV={\"additional_framework_parameters\":{},\"channel_input_dirs\":{\"test\":\"/opt/ml/input/data/test\",\"train\":\"/opt/ml/input/data/train\"},\"current_host\":\"algo-1-cg1ka\",\"framework_module\":\"sagemaker_mxnet_container.training:main\",\"hosts\":[\"algo-1-cg1ka\"],\"hyperparameters\":{\"dropout_rate\":0.02,\"epochs\":6,\"num_layers\":4,\"prediction_length\":13},\"input_config_dir\":\"/opt/ml/input/config\",\"input_data_config\":{\"test\":{\"TrainingInputMode\":\"File\"},\"train\":{\"TrainingInputMode\":\"File\"}},\"input_dir\":\"/opt/ml/input\",\"is_master\":true,\"job_name\":\"mxnet-training-2020-05-26-12-20-55-280\",\"log_level\":20,\"master_hostname\":\"algo-1-cg1ka\",\"model_dir\":\"/opt/ml/model\",\"module_dir\":\"s3://sagemaker-us-east-1-941048668662/mxnet-training-2020-05-26-12-20-55-280/source/sourcedir.tar.gz\",\"module_name\":\"ml/train\",\"network_interface_name\":\"eth0\",\"num_cpus\":6,\"num_gpus\":0,\"output_data_dir\":\"/opt/ml/output/data\",\"output_dir\":\"/opt/ml/output\",\"output_intermediate_dir\":\"/opt/ml/output/intermediate\",\"resource_config\":{\"current_host\":\"algo-1-cg1ka\",\"hosts\":[\"algo-1-cg1ka\"]},\"user_entry_point\":\"ml/train.py\"}\r\n",
      "\u001B[36malgo-1-cg1ka_1  |\u001B[0m SM_USER_ARGS=[\"--dropout_rate\",\"0.02\",\"--epochs\",\"6\",\"--num_layers\",\"4\",\"--prediction_length\",\"13\"]\r\n",
      "\u001B[36malgo-1-cg1ka_1  |\u001B[0m SM_OUTPUT_INTERMEDIATE_DIR=/opt/ml/output/intermediate\r\n",
      "\u001B[36malgo-1-cg1ka_1  |\u001B[0m SM_CHANNEL_TRAIN=/opt/ml/input/data/train\r\n",
      "\u001B[36malgo-1-cg1ka_1  |\u001B[0m SM_CHANNEL_TEST=/opt/ml/input/data/test\r\n",
      "\u001B[36malgo-1-cg1ka_1  |\u001B[0m SM_HP_EPOCHS=6\r\n",
      "\u001B[36malgo-1-cg1ka_1  |\u001B[0m SM_HP_PREDICTION_LENGTH=13\r\n",
      "\u001B[36malgo-1-cg1ka_1  |\u001B[0m SM_HP_NUM_LAYERS=4\r\n",
      "\u001B[36malgo-1-cg1ka_1  |\u001B[0m SM_HP_DROPOUT_RATE=0.02\r\n",
      "\u001B[36malgo-1-cg1ka_1  |\u001B[0m PYTHONPATH=/opt/ml/code:/usr/local/bin:/usr/local/lib/python36.zip:/usr/local/lib/python3.6:/usr/local/lib/python3.6/lib-dynload:/usr/local/lib/python3.6/site-packages\r\n",
      "\u001B[36malgo-1-cg1ka_1  |\u001B[0m \r\n",
      "\u001B[36malgo-1-cg1ka_1  |\u001B[0m Invoking script with the following command:\r\n",
      "\u001B[36malgo-1-cg1ka_1  |\u001B[0m \r\n",
      "\u001B[36malgo-1-cg1ka_1  |\u001B[0m /usr/local/bin/python3.6 ml/train.py --dropout_rate 0.02 --epochs 6 --num_layers 4 --prediction_length 13\r\n",
      "\u001B[36malgo-1-cg1ka_1  |\u001B[0m \r\n",
      "\u001B[36malgo-1-cg1ka_1  |\u001B[0m \r\n",
      "\u001B[36malgo-1-cg1ka_1  |\u001B[0m 2020-05-26 12:21:03,542 sagemaker-containers INFO     Reporting training SUCCESS\r\n",
      "\u001B[36mtmpa55gic40_algo-1-cg1ka_1 exited with code 0\n",
      "\u001B[0mAborting on container exit...\n",
      "===== Job Complete =====\n"
     ]
    }
   ],
   "source": [
    "#\n",
    "# Configure sagemaker and estimator\n",
    "#\n",
    "\n",
    "from ml.train import Train\n",
    "\n",
    "TRAIN = Train(LOGGER)\n",
    "\n",
    "print(train_dataset_path)\n",
    "estimator = TRAIN.create_model(SM_ROLE, INSTANCE_TYPE, sagemaker_session)\n",
    "TRAIN.fit_model(estimator, train_dataset_path, test_dataset_path)"
   ]
  },
  {
   "cell_type": "code",
   "execution_count": null,
   "metadata": {
    "pycharm": {
     "name": "#%%\n"
    }
   },
   "outputs": [],
   "source": [
    "#\n",
    "# NOTE: FURTHER CELLS ARE COMPATABLE WITH AWS SAGEMAKER ONLY, LOCAL MODE WILL NOT WORK\n",
    "# Hyperparameter tune the model\n",
    "#\n",
    "\n",
    "from ml.tune import Tune\n",
    "\n",
    "TUNE = Tune(LOGGER)\n",
    "\n",
    "tuner = TUNE.create_tuner(estimator)\n",
    "tuning_job_name = TUNE.fit(tuner, train_dataset_path, test_dataset_path)"
   ]
  },
  {
   "cell_type": "code",
   "execution_count": null,
   "metadata": {
    "pycharm": {
     "name": "#%%\n"
    }
   },
   "outputs": [],
   "source": [
    "#\n",
    "# Get updates for Hyperparameter tune job. Ensure this is completed before going to the next cell\n",
    "#\n",
    "\n",
    "TUNE.get_tune_job_update()"
   ]
  },
  {
   "cell_type": "code",
   "execution_count": null,
   "metadata": {
    "pycharm": {
     "name": "#%%\n"
    }
   },
   "outputs": [],
   "source": [
    "#\n",
    "# Evaluate the metrics of the tune job\n",
    "#\n",
    "\n",
    "TUNE.report_job_analytics()\n"
   ]
  }
 ],
 "metadata": {
  "kernelspec": {
   "display_name": "Python 3",
   "language": "python",
   "name": "python3"
  },
  "language_info": {
   "codemirror_mode": {
    "name": "ipython",
    "version": 3
   },
   "file_extension": ".py",
   "mimetype": "text/x-python",
   "name": "python",
   "nbconvert_exporter": "python",
   "pygments_lexer": "ipython3",
   "version": "3.7.5"
  }
 },
 "nbformat": 4,
 "nbformat_minor": 4
}