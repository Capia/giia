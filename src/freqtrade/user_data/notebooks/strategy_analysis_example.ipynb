{
 "cells": [
  {
   "cell_type": "markdown",
   "metadata": {},
   "source": [
    "# Strategy analysis example\n",
    "\n",
    "Debugging a strategy can be time-consuming. Freqtrade offers helper functions to visualize raw data.\n",
    "The following assumes you work with SampleStrategy, data for 5m timeframe from Binance and have downloaded them into the data directory in the default location."
   ]
  },
  {
   "cell_type": "code",
   "execution_count": null,
   "metadata": {
    "pycharm": {
     "name": "#%%\n"
    }
   },
   "outputs": [],
   "source": [
    "#\n",
    "# Initialization\n",
    "#\n",
    "import os\n",
    "import sys\n",
    "\n",
    "import ipynbname\n",
    "from pathlib import Path\n",
    "\n",
    "# Set notebook's src module path. Note that you may have to update your IDE's project settings to do the same for the\n",
    "#  local library imports to work the same\n",
    "MODULE_PATH = ipynbname.path().parent.parent.parent.parent\n",
    "sys.path.append(str(MODULE_PATH))\n",
    "\n",
    "# Keep paths consistent throughout notebook\n",
    "os.chdir(MODULE_PATH)\n",
    "\n",
    "# This should always be `./src`\n",
    "print(f\"Current working directory [{os.getcwd()}]\")\n",
    "\n",
    "# Place all local artifacts in a disposable, git-ignored directory\n",
    "local_artifact_dir = Path(os.getcwd()).parent / \"out\"\n",
    "local_artifact_dir.mkdir(parents=True, exist_ok=True)\n",
    "\n",
    "# Autoreload imports at the beginning of cell execution.\n",
    "#  https://ipython.org/ipython-doc/3/config/extensions/autoreload.html\n",
    "%load_ext autoreload\n",
    "%autoreload 2"
   ]
  },
  {
   "cell_type": "code",
   "execution_count": null,
   "outputs": [],
   "source": [
    "#\n",
    "# Setup utils\n",
    "#\n",
    "\n",
    "from utils.logger_util import LoggerUtil\n",
    "from utils.utils import Utils\n",
    "from utils import config\n",
    "\n",
    "LOGGER = LoggerUtil(config.MODEL_ID, local_artifact_dir / \"logs\")\n",
    "UTILS = Utils(LOGGER)\n",
    "\n",
    "UTILS.describe_env()"
   ],
   "metadata": {
    "collapsed": false,
    "pycharm": {
     "name": "#%%\n"
    }
   }
  },
  {
   "cell_type": "code",
   "execution_count": null,
   "metadata": {},
   "outputs": [],
   "source": [
    "from freqtrade.configuration import Configuration\n",
    "\n",
    "from utils import config\n",
    "\n",
    "# First prime the user_data_dir key. This will take priority when merged with config.json\n",
    "freqtrade_config = Configuration({\"user_data_dir\": config.FREQTRADE_USER_DATA_DIR})\n",
    "freqtrade_config = freqtrade_config.load_from_files([str(config.FREQTRADE_USER_DATA_DIR / \"config.json\")])\n",
    "freqtrade_config[\"user_data_dir\"] = config.FREQTRADE_USER_DATA_DIR"
   ]
  },
  {
   "cell_type": "code",
   "execution_count": null,
   "metadata": {},
   "outputs": [],
   "source": [
    "# Load data using values set above\n",
    "from freqtrade.data.history import load_pair_history\n",
    "\n",
    "candles = load_pair_history(\n",
    "    datadir=config.FREQTRADE_USER_DATA_DIR / \"data\" / \"binance\",\n",
    "    timeframe=freqtrade_config[\"timeframe\"],\n",
    "    pair=config.CRYPTO_PAIR)\n",
    "\n",
    "# Confirm success\n",
    "print(\"Loaded \" + str(len(candles)) + f\" rows of data for {config.CRYPTO_PAIR} from {config.FREQTRADE_USER_DATA_DIR}\")"
   ]
  },
  {
   "cell_type": "markdown",
   "metadata": {},
   "source": [
    "## Load and run strategy\n",
    "* Rerun each time the strategy file is changed"
   ]
  },
  {
   "cell_type": "code",
   "execution_count": null,
   "outputs": [],
   "source": [
    "candles_df = candles.tail(550).copy()\n",
    "# candles_df = candles.copy()\n",
    "print(candles_df.head())"
   ],
   "metadata": {
    "collapsed": false,
    "pycharm": {
     "name": "#%%\n"
    }
   }
  },
  {
   "cell_type": "code",
   "execution_count": null,
   "metadata": {},
   "outputs": [],
   "source": [
    "import matplotlib.pyplot as plt\n",
    "\n",
    "# Load strategy using values set above\n",
    "from freqtrade.resolvers import StrategyResolver\n",
    "\n",
    "import data_processing.marshal_features as mf\n",
    "\n",
    "strategy = StrategyResolver.load_strategy(freqtrade_config)\n",
    "\n",
    "strategy_metadata = {\n",
    "    \"pair\": config.CRYPTO_PAIR,\n",
    "\n",
    "    # Useful to turn off when df was already generated in this cell with the candle metadata\n",
    "    \"marshal_candle_metadata\": False,\n",
    "\n",
    "    # Useful to turn off when doing feature engineering before needing to predict\n",
    "    \"run_inference\": True,\n",
    "}\n",
    "\n",
    "# Generate buy/sell signals using strategy\n",
    "if strategy_metadata.get('marshal_candle_metadata', True):\n",
    "    cached_df = strategy.analyze_ticker(candles_df, strategy_metadata)\n",
    "    df = cached_df.copy()\n",
    "else:\n",
    "    df = cached_df.copy()\n",
    "    df = df.drop(['sell', 'buy'], axis=1, errors='ignore')\n",
    "    df = strategy.analyze_ticker(df, strategy_metadata)\n",
    "\n",
    "print(df[config.FREQTRADE_MAX_CONTEXT:config.FREQTRADE_MAX_CONTEXT + 10])"
   ]
  },
  {
   "cell_type": "code",
   "execution_count": null,
   "outputs": [],
   "source": [
    "#\n",
    "# Playground to visualize columns or to experiment quickly\n",
    "#\n",
    "\n",
    "# Reload strategy\n",
    "strategy = StrategyResolver.load_strategy(freqtrade_config)\n",
    "\n",
    "# print(\"--------\")\n",
    "# print(df[\"volume\"].describe())\n",
    "# import jenkspy\n",
    "# NATURAL_VOLUME_BREAKS = jenkspy.jenks_breaks(df[\"volume\"], nb_class=6)\n",
    "# print(NATURAL_VOLUME_BREAKS)\n",
    "# print(\"--------\")\n",
    "# print(df.head(5))\n",
    "# print(\"--------\")\n",
    "\n",
    "df = df.drop(['sell', 'buy'], axis=1, errors='ignore')\n",
    "df = strategy.advise_buy(df, strategy_metadata)\n",
    "df = strategy.advise_sell(df, strategy_metadata)\n",
    "print(df.tail(20))\n",
    "\n",
    "# df_plot2 = df[[\"close\"]]\n",
    "# ax = df_plot2.plot(figsize=(12, 5))\n",
    "# plt.grid()\n",
    "# plt.legend(df_plot2.columns)\n",
    "# plt.show()\n",
    "#\n",
    "# ax = df.plot(kind='scatter', x=\"volume\", y='close', figsize=(15, 15))\n",
    "# [plt.axvline(x) for x in mf.NATURAL_VOLUME_BREAKS]\n",
    "\n",
    "# # This takes some time to generate\n",
    "# from pandas.plotting import scatter_matrix\n",
    "# scatter_matrix(df_plot, alpha=0.2, figsize=(12, 12), diagonal='kde')\n",
    "\n",
    "# df_plot[-499:].plot(figsize=(12, 5), linewidth=2)\n",
    "# plt.grid()\n",
    "# plt.legend(df_plot.columns)\n",
    "# plt.show()\n",
    "\n",
    "# ax = df_plot.plot(kind='scatter', x='volume_bin', y='pattern_detected', figsize=(15, 15))\n",
    "# ax = df_plot.plot(kind='scatter', x='pattern_count', y='pattern_detected', figsize=(15, 15))\n",
    "# ax = df_plot.plot(kind='scatter', x='volume', y='pattern_detected', figsize=(15, 15))"
   ],
   "metadata": {
    "collapsed": false,
    "pycharm": {
     "name": "#%%\n"
    }
   }
  },
  {
   "cell_type": "markdown",
   "metadata": {},
   "source": [
    "### Display the trade details\n",
    "\n",
    "* Note that using `data.head()` would also work, however most indicators have some \"startup\" data at the top of the dataframe.\n",
    "* Some possible problems\n",
    "    * Columns with NaN values at the end of the dataframe\n",
    "    * Columns used in `crossed*()` functions with completely different units\n",
    "* Comparison with full backtest\n",
    "    * having 200 buy signals as output for one pair from `analyze_ticker()` does not necessarily mean that 200 trades will be made during backtesting.\n",
    "    * Assuming you use only one condition such as, `df['rsi'] < 30` as buy condition, this will generate multiple \"buy\" signals for each pair in sequence (until rsi returns > 29). The bot will only buy on the first of these signals (and also only if a trade-slot (\"max_open_trades\") is still available), or on one of the middle signals, as soon as a \"slot\" becomes available.  \n"
   ]
  },
  {
   "cell_type": "code",
   "execution_count": null,
   "metadata": {},
   "outputs": [],
   "source": [
    "import nest_asyncio\n",
    "nest_asyncio.apply()\n",
    "\n",
    "from datetime import datetime, timezone\n",
    "\n",
    "import freqtrade.optimize.backtesting as ft_backtest\n",
    "from freqtrade.data import history\n",
    "\n",
    "print(f\"Generated {df['buy'].sum()} buy signals\")\n",
    "print(f\"Generated {df['sell'].sum()} sell signals\")\n",
    "\n",
    "backtest_start_time = datetime.now(timezone.utc)\n",
    "backtesting = ft_backtest.Backtesting(freqtrade_config)\n",
    "backtesting._set_strategy(strategy)\n",
    "\n",
    "preprocessed_data = {\"ETH/UDST\": df}\n",
    "min_date, max_date = history.get_timerange(preprocessed_data)\n",
    "\n",
    "results = backtesting.backtest(\n",
    "    processed=preprocessed_data,\n",
    "    start_date=min_date,\n",
    "    end_date=max_date,\n",
    "    max_open_trades=freqtrade_config['max_open_trades'],\n",
    "    position_stacking=backtesting.config.get('position_stacking', False),\n",
    "    enable_protections=backtesting.config.get('enable_protections', False),\n",
    ")\n",
    "backtest_end_time = datetime.now(timezone.utc)\n",
    "\n",
    "results.update({\n",
    "    'backtest_start_time': int(backtest_start_time.timestamp()),\n",
    "    'backtest_end_time': int(backtest_end_time.timestamp()),\n",
    "})\n",
    "backtesting.all_results[backtesting.strategy.get_strategy_name()] = results\n",
    "\n",
    "stats = ft_backtest.generate_backtest_stats(preprocessed_data, backtesting.all_results, min_date=min_date, max_date=max_date)\n",
    "ft_backtest.show_backtest_results(backtesting.config, stats)"
   ]
  },
  {
   "cell_type": "markdown",
   "metadata": {},
   "source": [
    "## Load existing objects into a Jupyter notebook\n",
    "\n",
    "The following cells assume that you have already generated data using the cli.  \n",
    "They will allow you to drill deeper into your results, and perform analysis which otherwise would make the output very difficult to digest due to information overload."
   ]
  },
  {
   "cell_type": "markdown",
   "metadata": {},
   "source": [
    "### Load backtest results to pandas dataframe\n",
    "\n",
    "Analyze a trades dataframe (also used below for plotting)"
   ]
  },
  {
   "cell_type": "code",
   "execution_count": null,
   "metadata": {},
   "outputs": [],
   "source": [
    "from freqtrade.data.btanalysis import load_backtest_data, load_backtest_stats\n",
    "\n",
    "# if backtest_dir points to a directory, it'll automatically load the last backtest file.\n",
    "backtest_dir = freqtrade_config[\"user_data_dir\"] / \"backtest_results\"\n",
    "# backtest_dir can also point to a specific file \n",
    "# backtest_dir = config[\"user_data_dir\"] / \"backtest_results/backtest-result-2020-07-01_20-04-22.json\""
   ]
  },
  {
   "cell_type": "code",
   "execution_count": null,
   "metadata": {},
   "outputs": [],
   "source": [
    "# Get backtest statistics\n",
    "stats = load_backtest_stats(backtest_dir)\n",
    "strategy_name = freqtrade_config[\"strategy\"]\n",
    "\n",
    "print(stats['strategy'][strategy_name]['results_per_pair'])\n",
    "\n",
    "# Get pairlist used for this backtest\n",
    "print(stats['strategy'][strategy_name]['pairlist'])\n",
    "\n",
    "# Get market change (average change of all pairs from start to end of the backtest period)\n",
    "print(stats['strategy'][strategy_name]['market_change'])\n",
    "\n",
    "# Maximum drawdown ()\n",
    "print(stats['strategy'][strategy_name]['max_drawdown'])\n",
    "\n",
    "# Maximum drawdown start and end\n",
    "print(stats['strategy'][strategy_name]['drawdown_start'])\n",
    "print(stats['strategy'][strategy_name]['drawdown_end'])\n",
    "\n",
    "# Get strategy comparison (only relevant if multiple strategies were compared)\n",
    "print(stats['strategy_comparison'])\n"
   ]
  },
  {
   "cell_type": "code",
   "execution_count": null,
   "metadata": {},
   "outputs": [],
   "source": [
    "# Load backtested trades as dataframe\n",
    "trades = load_backtest_data(backtest_dir)\n",
    "\n",
    "# Show value-counts per pair\n",
    "trades.groupby(\"pair\")[\"sell_reason\"].value_counts()"
   ]
  },
  {
   "cell_type": "markdown",
   "metadata": {},
   "source": [
    "### Load live trading results into a pandas dataframe\n",
    "\n",
    "In case you did already some trading and want to analyze your performance"
   ]
  },
  {
   "cell_type": "code",
   "execution_count": null,
   "metadata": {},
   "outputs": [],
   "source": [
    "from freqtrade.data.btanalysis import load_trades_from_db\n",
    "\n",
    "# Fetch trades from database\n",
    "trades = load_trades_from_db(\"sqlite:///tradesv3.sqlite\")\n",
    "\n",
    "# Display results\n",
    "trades.groupby(\"pair\")[\"sell_reason\"].value_counts()"
   ]
  },
  {
   "cell_type": "markdown",
   "metadata": {},
   "source": [
    "## Analyze the loaded trades for trade parallelism\n",
    "This can be useful to find the best `max_open_trades` parameter, when used with backtesting in conjunction with `--disable-max-market-positions`.\n",
    "\n",
    "`analyze_trade_parallelism()` returns a timeseries dataframe with an \"open_trades\" column, specifying the number of open trades for each candle."
   ]
  },
  {
   "cell_type": "code",
   "execution_count": null,
   "metadata": {},
   "outputs": [],
   "source": [
    "from freqtrade.data.btanalysis import analyze_trade_parallelism\n",
    "\n",
    "# Analyze the above\n",
    "parallel_trades = analyze_trade_parallelism(trades, '5m')\n",
    "\n",
    "parallel_trades.plot()"
   ]
  },
  {
   "cell_type": "markdown",
   "metadata": {},
   "source": [
    "## Plot results\n",
    "\n",
    "Freqtrade offers interactive plotting capabilities based on plotly."
   ]
  },
  {
   "cell_type": "code",
   "execution_count": null,
   "metadata": {},
   "outputs": [],
   "source": [
    "from freqtrade.plot.plotting import generate_candlestick_graph\n",
    "\n",
    "# Limit graph period to keep plotly quick and reactive\n",
    "\n",
    "# Filter trades to one pair\n",
    "trades_red = trades.loc[trades['pair'] == pair]\n",
    "\n",
    "data_red = data['2019-06-01':'2019-06-10']\n",
    "# Generate candlestick graph\n",
    "graph = generate_candlestick_graph(pair=pair,\n",
    "                                   data=data_red,\n",
    "                                   trades=trades_red,\n",
    "                                   indicators1=['sma20', 'ema50', 'ema55'],\n",
    "                                   indicators2=['rsi', 'macd', 'macdsignal', 'macdhist']\n",
    "                                   )\n",
    "\n",
    "\n"
   ]
  },
  {
   "cell_type": "code",
   "execution_count": null,
   "metadata": {},
   "outputs": [],
   "source": [
    "# Show graph inline\n",
    "# graph.show()\n",
    "\n",
    "# Render graph in a seperate window\n",
    "graph.show(renderer=\"browser\")\n"
   ]
  },
  {
   "cell_type": "markdown",
   "metadata": {},
   "source": [
    "Feel free to submit an issue or Pull Request enhancing this document if you would like to share ideas on how to best analyze the data."
   ]
  }
 ],
 "metadata": {
  "file_extension": ".py",
  "kernelspec": {
   "display_name": "Capia (venv)",
   "language": "python",
   "name": "capia"
  },
  "language_info": {
   "codemirror_mode": {
    "name": "ipython",
    "version": 3
   },
   "file_extension": ".py",
   "mimetype": "text/x-python",
   "name": "python",
   "nbconvert_exporter": "python",
   "pygments_lexer": "ipython3",
   "version": "3.8.7"
  },
  "mimetype": "text/x-python",
  "name": "python",
  "npconvert_exporter": "python",
  "pygments_lexer": "ipython3",
  "toc": {
   "base_numbering": 1,
   "nav_menu": {},
   "number_sections": true,
   "sideBar": true,
   "skip_h1_title": false,
   "title_cell": "Table of Contents",
   "title_sidebar": "Contents",
   "toc_cell": false,
   "toc_position": {},
   "toc_section_display": true,
   "toc_window_display": false
  },
  "varInspector": {
   "cols": {
    "lenName": 16,
    "lenType": 16,
    "lenVar": 40
   },
   "kernels_config": {
    "python": {
     "delete_cmd_postfix": "",
     "delete_cmd_prefix": "del ",
     "library": "var_list.py",
     "varRefreshCmd": "print(var_dic_list())"
    },
    "r": {
     "delete_cmd_postfix": ") ",
     "delete_cmd_prefix": "rm(",
     "library": "var_list.r",
     "varRefreshCmd": "cat(var_dic_list()) "
    }
   },
   "types_to_exclude": [
    "module",
    "function",
    "builtin_function_or_method",
    "instance",
    "_Feature"
   ],
   "window_display": false
  },
  "version": 3
 },
 "nbformat": 4,
 "nbformat_minor": 4
}